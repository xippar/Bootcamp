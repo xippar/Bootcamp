{
 "cells": [
  {
   "cell_type": "markdown",
   "metadata": {},
   "source": [
    "# สร้างโปรแกรมย้ายไฟล์"
   ]
  },
  {
   "cell_type": "markdown",
   "metadata": {},
   "source": [
    "ในการทำงานกับไฟล์บนคอมพิวเตอร์ เราจะใช้การระบุตำแหน่งของไฟล์ หรือที่เรียกว่า Path ไฟล์ ในการระบุไฟล์ที่ต้องการทำงานด้วย"
   ]
  },
  {
   "cell_type": "markdown",
   "metadata": {},
   "source": [
    "## Library ที่ใช้"
   ]
  },
  {
   "cell_type": "markdown",
   "metadata": {},
   "source": [
    "เราจะใช้ Library ที่ชื่อว่า os ที่ใช้ทำงานกับคอมพิวเตอร์ เช่นการทำงานกับไฟล์ โฟลเดอร์ต่างๆ และ shutil ที่เป็น Library เพื่อใช้จัดการไฟล์ โฟลเดอร์โดยเฉพาะ"
   ]
  },
  {
   "cell_type": "code",
   "execution_count": 1,
   "metadata": {},
   "outputs": [],
   "source": [
    "# นำเข้า Library os\n",
    "import os\n",
    "# นำเข้า Library shutil\n",
    "import shutil"
   ]
  },
  {
   "cell_type": "markdown",
   "metadata": {},
   "source": [
    "## โฟลเดอร์ปัจจุบัน"
   ]
  },
  {
   "cell_type": "markdown",
   "metadata": {},
   "source": [
    "ดู Path ที่ Jupyter Notebook ทำงานอยู่ด้วยปัจจุบัน"
   ]
  },
  {
   "cell_type": "code",
   "execution_count": 2,
   "metadata": {},
   "outputs": [
    {
     "data": {
      "text/plain": [
       "'C:\\\\Users\\\\acer\\\\Desktop\\\\Bootcamp\\\\Class 2'"
      ]
     },
     "execution_count": 2,
     "metadata": {},
     "output_type": "execute_result"
    }
   ],
   "source": [
    "# Path โฟลเดอร์ปัจจุบัน\n",
    "folder = os.getcwd()\n",
    "folder"
   ]
  },
  {
   "cell_type": "markdown",
   "metadata": {},
   "source": [
    "## target_folder"
   ]
  },
  {
   "cell_type": "markdown",
   "metadata": {},
   "source": [
    "สร้าง Path ไฟล์ในโฟลเดอร์ แบบเจาะจงชื่อ"
   ]
  },
  {
   "cell_type": "code",
   "execution_count": 3,
   "metadata": {},
   "outputs": [
    {
     "data": {
      "text/plain": [
       "'C:\\\\Users\\\\acer\\\\Desktop\\\\Bootcamp\\\\Class 2\\\\file_management'"
      ]
     },
     "execution_count": 3,
     "metadata": {},
     "output_type": "execute_result"
    }
   ],
   "source": [
    "# Global Variable ที่เก็บตำแหน่งโฟลเดอร์ไว้ใช้งาน\n",
    "target_folder = os.path.join(folder,'file_management')\n",
    "target_folder"
   ]
  },
  {
   "cell_type": "markdown",
   "metadata": {},
   "source": [
    "## ชื่อไฟล์ทั้งหมดในโฟลเดอร์"
   ]
  },
  {
   "cell_type": "markdown",
   "metadata": {},
   "source": [
    "ไฟล์ทั้งหมดในโฟลเดอร์ ที่กำหนด"
   ]
  },
  {
   "cell_type": "code",
   "execution_count": 4,
   "metadata": {
    "scrolled": false
   },
   "outputs": [
    {
     "data": {
      "text/plain": [
       "['Bootcamp 19.png',\n",
       " 'Condo list.xlsx',\n",
       " 'new_folder',\n",
       " 'non_mask_to_mask_prediction.gif',\n",
       " 'old_folder']"
      ]
     },
     "execution_count": 4,
     "metadata": {},
     "output_type": "execute_result"
    }
   ],
   "source": [
    "# ดึงชื่อไฟล์ทั้งหมดจากโฟลเดอร์ที่ต้องการ\n",
    "file_list = os.listdir(target_folder)\n",
    "file_list"
   ]
  },
  {
   "cell_type": "markdown",
   "metadata": {},
   "source": [
    "## get_files()"
   ]
  },
  {
   "cell_type": "code",
   "execution_count": 5,
   "metadata": {},
   "outputs": [],
   "source": [
    "\"\"\"\n",
    "สร้าง function get_files() ที่รับ path ของโฟลเดอร์\n",
    "และให้ข้อมูลคืนมาเป็น list ของชื่อไฟล์\n",
    "\"\"\"\n",
    "def get_files(target_folder):\n",
    "    file_list = os.listdir(target_folder)\n",
    "    return file_list"
   ]
  },
  {
   "cell_type": "markdown",
   "metadata": {},
   "source": [
    "ใช้ get_files() สร้างรายชื่อไฟล์"
   ]
  },
  {
   "cell_type": "code",
   "execution_count": 6,
   "metadata": {},
   "outputs": [
    {
     "data": {
      "text/plain": [
       "['Bootcamp 19.png',\n",
       " 'Condo list.xlsx',\n",
       " 'new_folder',\n",
       " 'non_mask_to_mask_prediction.gif',\n",
       " 'old_folder']"
      ]
     },
     "execution_count": 6,
     "metadata": {},
     "output_type": "execute_result"
    }
   ],
   "source": [
    "file_list = get_files(target_folder)\n",
    "file_list"
   ]
  },
  {
   "cell_type": "markdown",
   "metadata": {},
   "source": [
    "## แยกชื่อไฟล์จาก Path"
   ]
  },
  {
   "cell_type": "code",
   "execution_count": 7,
   "metadata": {},
   "outputs": [
    {
     "data": {
      "text/plain": [
       "'.extension'"
      ]
     },
     "execution_count": 7,
     "metadata": {},
     "output_type": "execute_result"
    }
   ],
   "source": [
    "# ทำการแยกนามสกุลไฟล์ออกจาก file path \n",
    "# และดึง นามสกุลไฟล์ออกมา\n",
    "file_type = os.path.splitext(r'file_name.extension')[-1]\n",
    "file_type"
   ]
  },
  {
   "cell_type": "markdown",
   "metadata": {},
   "source": [
    "## ทำงานกับ Set"
   ]
  },
  {
   "cell_type": "code",
   "execution_count": 8,
   "metadata": {
    "scrolled": false
   },
   "outputs": [
    {
     "data": {
      "text/plain": [
       "{'file_name'}"
      ]
     },
     "execution_count": 8,
     "metadata": {},
     "output_type": "execute_result"
    }
   ],
   "source": [
    "# สร้าง set ว่างเปล่าใช้เก็บนามสกุลไฟล์\n",
    "type_set = set()\n",
    "# เพิ่มนามสกุลไฟล์เข้าไปใน set\n",
    "type_set.add('file_name')\n",
    "type_set"
   ]
  },
  {
   "cell_type": "markdown",
   "metadata": {},
   "source": [
    "## แยกกรณีนามกสุลไฟล์"
   ]
  },
  {
   "cell_type": "code",
   "execution_count": 9,
   "metadata": {},
   "outputs": [],
   "source": [
    "# สร้างกรณีใช้แยกการทำงานกับนามสกุลไฟล์ที่เป็น ''\n",
    "# ซึ่งเป็นกรณีที่เป็นโฟลเดอร์ หากเป็นไฟล์จะได้ .extension\n",
    "if file_type == '':\n",
    "    pass\n",
    "else:\n",
    "    type_set.add(file_type)"
   ]
  },
  {
   "cell_type": "markdown",
   "metadata": {},
   "source": [
    "## check_type()"
   ]
  },
  {
   "cell_type": "code",
   "execution_count": 10,
   "metadata": {},
   "outputs": [],
   "source": [
    "\"\"\"\n",
    "สร้าง function check_type() ที่รับ list ชื่อไฟล์\n",
    "และเก็บนามสกุลไฟล์ไว้ใน set\n",
    "\"\"\"\n",
    "def check_type(file_list):\n",
    "    type_set = set()\n",
    "    for file in file_list:\n",
    "        file_type = os.path.splitext(file)[-1]\n",
    "        if file_type == '':\n",
    "            pass\n",
    "        else:\n",
    "            type_set.add(file_type)\n",
    "    return type_set"
   ]
  },
  {
   "cell_type": "markdown",
   "metadata": {},
   "source": [
    "รวมประเภทไฟล์ใน set"
   ]
  },
  {
   "cell_type": "code",
   "execution_count": 11,
   "metadata": {},
   "outputs": [
    {
     "data": {
      "text/plain": [
       "{'.gif', '.png', '.xlsx'}"
      ]
     },
     "execution_count": 11,
     "metadata": {},
     "output_type": "execute_result"
    }
   ],
   "source": [
    "type_set = check_type(file_list)\n",
    "type_set"
   ]
  },
  {
   "cell_type": "markdown",
   "metadata": {},
   "source": [
    "## สร้าง folder ในโฟลเดอร์ที่ต้องการ"
   ]
  },
  {
   "cell_type": "code",
   "execution_count": 12,
   "metadata": {
    "scrolled": true
   },
   "outputs": [],
   "source": [
    "# สร้าง path ไฟล์ที่ต้องการโดยเริ่มจาก โฟลเดอร์ปัจจุบัน\n",
    "# และระบุ subfolder เพื่อสร้างขึ้นมา\n",
    "new_folder = os.path.join(target_folder,'blank_folder')\n",
    "os.mkdir(new_folder)"
   ]
  },
  {
   "cell_type": "markdown",
   "metadata": {},
   "source": [
    "## make_dir()"
   ]
  },
  {
   "cell_type": "code",
   "execution_count": 13,
   "metadata": {},
   "outputs": [],
   "source": [
    "\"\"\"\n",
    "สร้าง function make_dir() เพื่อใช้สร้างโฟลเดอร์\n",
    "ด้วยชื่อของนามสกุลไฟล์ที่มี\n",
    "\"\"\"\n",
    "def make_dir(type_set):\n",
    "    for t in type_set:\n",
    "        folder_path = os.path.join(target_folder,t)\n",
    "        os.mkdir(folder_path)"
   ]
  },
  {
   "cell_type": "markdown",
   "metadata": {},
   "source": [
    "สร้างโฟลเดอร์เพื่อใช้แยกประเภทไฟล์"
   ]
  },
  {
   "cell_type": "code",
   "execution_count": 14,
   "metadata": {},
   "outputs": [],
   "source": [
    "make_dir(type_set)"
   ]
  },
  {
   "cell_type": "markdown",
   "metadata": {},
   "source": [
    "## ย้ายไฟล์"
   ]
  },
  {
   "cell_type": "code",
   "execution_count": 15,
   "metadata": {},
   "outputs": [
    {
     "data": {
      "text/plain": [
       "'C:\\\\Users\\\\acer\\\\Desktop\\\\Bootcamp\\\\Class 2\\\\file_management\\\\new_folder\\\\blank.txt'"
      ]
     },
     "execution_count": 15,
     "metadata": {},
     "output_type": "execute_result"
    }
   ],
   "source": [
    "# กำหนด path ไฟล์ที่ต้องการย้าย\n",
    "original = os.path.join(os.getcwd(),'file_management\\\\old_folder\\\\blank.txt')\n",
    "# กำหนด path ของโฟลเดอร์ที่ต้องการย้ายไฟล์ไป\n",
    "destination = os.path.join(os.getcwd(),'file_management\\\\new_folder')\n",
    "# คำสั่งย้ายไฟล์ไปยังโฟเดอร์ที่ต้องการ\n",
    "shutil.move(original,destination)"
   ]
  },
  {
   "cell_type": "markdown",
   "metadata": {},
   "source": [
    "## move_file()"
   ]
  },
  {
   "cell_type": "code",
   "execution_count": 16,
   "metadata": {},
   "outputs": [],
   "source": [
    "\"\"\"\n",
    "สร้าง function move_file() ที่รับรายชื่อไฟล์\n",
    "สร้าง path ไฟล์ และย้ายไฟล์นั้น ไปโฟลเดอร์ที่ต้องการ\n",
    "\"\"\"\n",
    "def move_file(file_list):\n",
    "    for file in file_list:\n",
    "        type = os.path.splitext(file)[-1]\n",
    "        if type == '':\n",
    "            pass\n",
    "        else:\n",
    "            file_path = os.path.join(target_folder,file)\n",
    "            destination_path = os.path.join(target_folder,type)\n",
    "            shutil.move(file_path,destination_path)"
   ]
  },
  {
   "cell_type": "markdown",
   "metadata": {},
   "source": [
    "รัน move_file() ย้ายไฟล์เข้าโฟลเดอร์"
   ]
  },
  {
   "cell_type": "code",
   "execution_count": 17,
   "metadata": {},
   "outputs": [],
   "source": [
    "move_file(file_list)"
   ]
  },
  {
   "cell_type": "markdown",
   "metadata": {},
   "source": [
    "## main()"
   ]
  },
  {
   "cell_type": "markdown",
   "metadata": {},
   "source": [
    "เป็นฟังก์ชันที่เรียกใช้ function ต่างๆ นำเข้าข้อมูล และเรียบเรียงเป็นขั้นตอนที่ต้องการให้โปรแกรมทำงาน"
   ]
  },
  {
   "cell_type": "code",
   "execution_count": 18,
   "metadata": {},
   "outputs": [],
   "source": [
    "def main():\n",
    "    file_list = get_files(target_folder)\n",
    "    type_set = check_type(file_list)\n",
    "    make_dir(type_set)\n",
    "    move_file(file_list)"
   ]
  },
  {
   "cell_type": "markdown",
   "metadata": {},
   "source": [
    "## if __name__=='__main__':"
   ]
  },
  {
   "cell_type": "markdown",
   "metadata": {},
   "source": [
    "เป็นเงื่อนไขที่ใช้ป้องกันการเรียกใช้คำสั่ง เมื่อทำการ import ให้คำสั่งทั้งหมดทำงานเฉพาะเมื่อเรียกใช้โดยตรง"
   ]
  },
  {
   "cell_type": "code",
   "execution_count": 19,
   "metadata": {},
   "outputs": [],
   "source": [
    "if __name__=='__main__':\n",
    "    main()"
   ]
  }
 ],
 "metadata": {
  "kernelspec": {
   "display_name": "Python 3",
   "language": "python",
   "name": "python3"
  },
  "language_info": {
   "codemirror_mode": {
    "name": "ipython",
    "version": 3
   },
   "file_extension": ".py",
   "mimetype": "text/x-python",
   "name": "python",
   "nbconvert_exporter": "python",
   "pygments_lexer": "ipython3",
   "version": "3.7.7"
  }
 },
 "nbformat": 4,
 "nbformat_minor": 4
}
