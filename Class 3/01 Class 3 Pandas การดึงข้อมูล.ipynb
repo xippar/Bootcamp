{
 "cells": [
  {
   "cell_type": "markdown",
   "metadata": {},
   "source": [
    "# Pandas"
   ]
  },
  {
   "cell_type": "markdown",
   "metadata": {},
   "source": [
    "ใช้จัดการข้อมูล คำนวนข้อมูล ที่อยู่ในรูปแบบบตาราง ทั้ง excel, csv, tsv เป็นพื้นฐานของการจัดการข้อมูล และการวิเคราะห์ข้อมูล"
   ]
  },
  {
   "cell_type": "markdown",
   "metadata": {},
   "source": [
    "## นำเข้าเครื่องมือ"
   ]
  },
  {
   "cell_type": "code",
   "execution_count": 2,
   "metadata": {
    "scrolled": true
   },
   "outputs": [],
   "source": [
    "import pandas as pd"
   ]
  },
  {
   "cell_type": "markdown",
   "metadata": {},
   "source": [
    "## เปิดไฟล์ด้วยการระบุ ตำแหน่งไฟล์"
   ]
  },
  {
   "cell_type": "markdown",
   "metadata": {},
   "source": [
    "ไฟล์ object ที่เปิดด้วย pandas จะเรียกว่า DataFrame"
   ]
  },
  {
   "cell_type": "code",
   "execution_count": 15,
   "metadata": {},
   "outputs": [],
   "source": [
    "table = pd.read_excel('excel/East.xlsx')\n",
    "table.set_index('Product',inplace=True)"
   ]
  },
  {
   "cell_type": "code",
   "execution_count": 16,
   "metadata": {},
   "outputs": [
    {
     "data": {
      "text/html": [
       "<div>\n",
       "<style scoped>\n",
       "    .dataframe tbody tr th:only-of-type {\n",
       "        vertical-align: middle;\n",
       "    }\n",
       "\n",
       "    .dataframe tbody tr th {\n",
       "        vertical-align: top;\n",
       "    }\n",
       "\n",
       "    .dataframe thead th {\n",
       "        text-align: right;\n",
       "    }\n",
       "</style>\n",
       "<table border=\"1\" class=\"dataframe\">\n",
       "  <thead>\n",
       "    <tr style=\"text-align: right;\">\n",
       "      <th></th>\n",
       "      <th>Qtr1</th>\n",
       "      <th>Qtr2</th>\n",
       "      <th>Qtr3</th>\n",
       "      <th>Qtr4</th>\n",
       "    </tr>\n",
       "    <tr>\n",
       "      <th>Product</th>\n",
       "      <th></th>\n",
       "      <th></th>\n",
       "      <th></th>\n",
       "      <th></th>\n",
       "    </tr>\n",
       "  </thead>\n",
       "  <tbody>\n",
       "    <tr>\n",
       "      <th>Basil Leaf (Whole)</th>\n",
       "      <td>9555</td>\n",
       "      <td>5975</td>\n",
       "      <td>5595</td>\n",
       "      <td>9659</td>\n",
       "    </tr>\n",
       "    <tr>\n",
       "      <th>Celery Seed (Whole)</th>\n",
       "      <td>7543</td>\n",
       "      <td>7346</td>\n",
       "      <td>3466</td>\n",
       "      <td>7474</td>\n",
       "    </tr>\n",
       "    <tr>\n",
       "      <th>Catnip Leaf</th>\n",
       "      <td>854</td>\n",
       "      <td>364</td>\n",
       "      <td>474</td>\n",
       "      <td>743</td>\n",
       "    </tr>\n",
       "    <tr>\n",
       "      <th>Cardamom Seed (Ground)</th>\n",
       "      <td>844</td>\n",
       "      <td>848</td>\n",
       "      <td>457</td>\n",
       "      <td>744</td>\n",
       "    </tr>\n",
       "    <tr>\n",
       "      <th>Anise Seeds</th>\n",
       "      <td>734</td>\n",
       "      <td>457</td>\n",
       "      <td>327</td>\n",
       "      <td>235</td>\n",
       "    </tr>\n",
       "    <tr>\n",
       "      <th>Asafoetida Powder</th>\n",
       "      <td>688</td>\n",
       "      <td>468</td>\n",
       "      <td>874</td>\n",
       "      <td>568</td>\n",
       "    </tr>\n",
       "    <tr>\n",
       "      <th>Caraway Seed (Whole)</th>\n",
       "      <td>676</td>\n",
       "      <td>856</td>\n",
       "      <td>855</td>\n",
       "      <td>866</td>\n",
       "    </tr>\n",
       "    <tr>\n",
       "      <th>Bay Leaf (Whole)</th>\n",
       "      <td>667</td>\n",
       "      <td>799</td>\n",
       "      <td>750</td>\n",
       "      <td>575</td>\n",
       "    </tr>\n",
       "    <tr>\n",
       "      <th>Chamomile Flowers</th>\n",
       "      <td>553</td>\n",
       "      <td>474</td>\n",
       "      <td>632</td>\n",
       "      <td>474</td>\n",
       "    </tr>\n",
       "    <tr>\n",
       "      <th>East Special</th>\n",
       "      <td>400</td>\n",
       "      <td>751</td>\n",
       "      <td>985</td>\n",
       "      <td>1450</td>\n",
       "    </tr>\n",
       "    <tr>\n",
       "      <th>Cardamom Seed (Whole)</th>\n",
       "      <td>379</td>\n",
       "      <td>375</td>\n",
       "      <td>377</td>\n",
       "      <td>745</td>\n",
       "    </tr>\n",
       "  </tbody>\n",
       "</table>\n",
       "</div>"
      ],
      "text/plain": [
       "                        Qtr1  Qtr2  Qtr3  Qtr4\n",
       "Product                                       \n",
       "Basil Leaf (Whole)      9555  5975  5595  9659\n",
       "Celery Seed (Whole)     7543  7346  3466  7474\n",
       "Catnip Leaf              854   364   474   743\n",
       "Cardamom Seed (Ground)   844   848   457   744\n",
       "Anise Seeds              734   457   327   235\n",
       "Asafoetida Powder        688   468   874   568\n",
       "Caraway Seed (Whole)     676   856   855   866\n",
       "Bay Leaf (Whole)         667   799   750   575\n",
       "Chamomile Flowers        553   474   632   474\n",
       "East Special             400   751   985  1450\n",
       "Cardamom Seed (Whole)    379   375   377   745"
      ]
     },
     "execution_count": 16,
     "metadata": {},
     "output_type": "execute_result"
    }
   ],
   "source": [
    "table"
   ]
  },
  {
   "cell_type": "markdown",
   "metadata": {},
   "source": [
    "## แต่งตั้ง index"
   ]
  },
  {
   "cell_type": "markdown",
   "metadata": {},
   "source": [
    "Pandas จะให้ความสำคัญกับชื่อ column, row มากๆ เพราะใช้จัดการ เข้าถึงข้อมูล"
   ]
  },
  {
   "cell_type": "code",
   "execution_count": 7,
   "metadata": {},
   "outputs": [
    {
     "data": {
      "text/html": [
       "<div>\n",
       "<style scoped>\n",
       "    .dataframe tbody tr th:only-of-type {\n",
       "        vertical-align: middle;\n",
       "    }\n",
       "\n",
       "    .dataframe tbody tr th {\n",
       "        vertical-align: top;\n",
       "    }\n",
       "\n",
       "    .dataframe thead th {\n",
       "        text-align: right;\n",
       "    }\n",
       "</style>\n",
       "<table border=\"1\" class=\"dataframe\">\n",
       "  <thead>\n",
       "    <tr style=\"text-align: right;\">\n",
       "      <th></th>\n",
       "      <th>Qtr1</th>\n",
       "      <th>Qtr2</th>\n",
       "      <th>Qtr3</th>\n",
       "      <th>Qtr4</th>\n",
       "    </tr>\n",
       "    <tr>\n",
       "      <th>Product</th>\n",
       "      <th></th>\n",
       "      <th></th>\n",
       "      <th></th>\n",
       "      <th></th>\n",
       "    </tr>\n",
       "  </thead>\n",
       "  <tbody>\n",
       "    <tr>\n",
       "      <th>Basil Leaf (Whole)</th>\n",
       "      <td>9555</td>\n",
       "      <td>5975</td>\n",
       "      <td>5595</td>\n",
       "      <td>9659</td>\n",
       "    </tr>\n",
       "    <tr>\n",
       "      <th>Celery Seed (Whole)</th>\n",
       "      <td>7543</td>\n",
       "      <td>7346</td>\n",
       "      <td>3466</td>\n",
       "      <td>7474</td>\n",
       "    </tr>\n",
       "    <tr>\n",
       "      <th>Catnip Leaf</th>\n",
       "      <td>854</td>\n",
       "      <td>364</td>\n",
       "      <td>474</td>\n",
       "      <td>743</td>\n",
       "    </tr>\n",
       "    <tr>\n",
       "      <th>Cardamom Seed (Ground)</th>\n",
       "      <td>844</td>\n",
       "      <td>848</td>\n",
       "      <td>457</td>\n",
       "      <td>744</td>\n",
       "    </tr>\n",
       "    <tr>\n",
       "      <th>Anise Seeds</th>\n",
       "      <td>734</td>\n",
       "      <td>457</td>\n",
       "      <td>327</td>\n",
       "      <td>235</td>\n",
       "    </tr>\n",
       "    <tr>\n",
       "      <th>Asafoetida Powder</th>\n",
       "      <td>688</td>\n",
       "      <td>468</td>\n",
       "      <td>874</td>\n",
       "      <td>568</td>\n",
       "    </tr>\n",
       "    <tr>\n",
       "      <th>Caraway Seed (Whole)</th>\n",
       "      <td>676</td>\n",
       "      <td>856</td>\n",
       "      <td>855</td>\n",
       "      <td>866</td>\n",
       "    </tr>\n",
       "    <tr>\n",
       "      <th>Bay Leaf (Whole)</th>\n",
       "      <td>667</td>\n",
       "      <td>799</td>\n",
       "      <td>750</td>\n",
       "      <td>575</td>\n",
       "    </tr>\n",
       "    <tr>\n",
       "      <th>Chamomile Flowers</th>\n",
       "      <td>553</td>\n",
       "      <td>474</td>\n",
       "      <td>632</td>\n",
       "      <td>474</td>\n",
       "    </tr>\n",
       "    <tr>\n",
       "      <th>East Special</th>\n",
       "      <td>400</td>\n",
       "      <td>751</td>\n",
       "      <td>985</td>\n",
       "      <td>1450</td>\n",
       "    </tr>\n",
       "    <tr>\n",
       "      <th>Cardamom Seed (Whole)</th>\n",
       "      <td>379</td>\n",
       "      <td>375</td>\n",
       "      <td>377</td>\n",
       "      <td>745</td>\n",
       "    </tr>\n",
       "  </tbody>\n",
       "</table>\n",
       "</div>"
      ],
      "text/plain": [
       "                        Qtr1  Qtr2  Qtr3  Qtr4\n",
       "Product                                       \n",
       "Basil Leaf (Whole)      9555  5975  5595  9659\n",
       "Celery Seed (Whole)     7543  7346  3466  7474\n",
       "Catnip Leaf              854   364   474   743\n",
       "Cardamom Seed (Ground)   844   848   457   744\n",
       "Anise Seeds              734   457   327   235\n",
       "Asafoetida Powder        688   468   874   568\n",
       "Caraway Seed (Whole)     676   856   855   866\n",
       "Bay Leaf (Whole)         667   799   750   575\n",
       "Chamomile Flowers        553   474   632   474\n",
       "East Special             400   751   985  1450\n",
       "Cardamom Seed (Whole)    379   375   377   745"
      ]
     },
     "execution_count": 7,
     "metadata": {},
     "output_type": "execute_result"
    }
   ],
   "source": [
    "table = table.set_index('Product')\n",
    "table"
   ]
  },
  {
   "cell_type": "code",
   "execution_count": 33,
   "metadata": {},
   "outputs": [
    {
     "data": {
      "text/plain": [
       "9555"
      ]
     },
     "execution_count": 33,
     "metadata": {},
     "output_type": "execute_result"
    }
   ],
   "source": [
    "table['Qtr1']['Basil Leaf (Whole)']"
   ]
  },
  {
   "cell_type": "code",
   "execution_count": 35,
   "metadata": {},
   "outputs": [
    {
     "data": {
      "text/plain": [
       "9555"
      ]
     },
     "execution_count": 35,
     "metadata": {},
     "output_type": "execute_result"
    }
   ],
   "source": [
    "table.loc['Basil Leaf (Whole)']['Qtr1']"
   ]
  },
  {
   "cell_type": "markdown",
   "metadata": {},
   "source": [
    "## ดึงข้อมูล"
   ]
  },
  {
   "cell_type": "markdown",
   "metadata": {},
   "source": [
    "ดึง column จะได้เป็นประเภท Series"
   ]
  },
  {
   "cell_type": "code",
   "execution_count": 20,
   "metadata": {
    "scrolled": true
   },
   "outputs": [
    {
     "data": {
      "text/html": [
       "<div>\n",
       "<style scoped>\n",
       "    .dataframe tbody tr th:only-of-type {\n",
       "        vertical-align: middle;\n",
       "    }\n",
       "\n",
       "    .dataframe tbody tr th {\n",
       "        vertical-align: top;\n",
       "    }\n",
       "\n",
       "    .dataframe thead th {\n",
       "        text-align: right;\n",
       "    }\n",
       "</style>\n",
       "<table border=\"1\" class=\"dataframe\">\n",
       "  <thead>\n",
       "    <tr style=\"text-align: right;\">\n",
       "      <th></th>\n",
       "      <th>Qtr1</th>\n",
       "      <th>Qtr2</th>\n",
       "    </tr>\n",
       "    <tr>\n",
       "      <th>Product</th>\n",
       "      <th></th>\n",
       "      <th></th>\n",
       "    </tr>\n",
       "  </thead>\n",
       "  <tbody>\n",
       "    <tr>\n",
       "      <th>Basil Leaf (Whole)</th>\n",
       "      <td>9555</td>\n",
       "      <td>5975</td>\n",
       "    </tr>\n",
       "    <tr>\n",
       "      <th>Celery Seed (Whole)</th>\n",
       "      <td>7543</td>\n",
       "      <td>7346</td>\n",
       "    </tr>\n",
       "    <tr>\n",
       "      <th>Catnip Leaf</th>\n",
       "      <td>854</td>\n",
       "      <td>364</td>\n",
       "    </tr>\n",
       "    <tr>\n",
       "      <th>Cardamom Seed (Ground)</th>\n",
       "      <td>844</td>\n",
       "      <td>848</td>\n",
       "    </tr>\n",
       "    <tr>\n",
       "      <th>Anise Seeds</th>\n",
       "      <td>734</td>\n",
       "      <td>457</td>\n",
       "    </tr>\n",
       "    <tr>\n",
       "      <th>Asafoetida Powder</th>\n",
       "      <td>688</td>\n",
       "      <td>468</td>\n",
       "    </tr>\n",
       "    <tr>\n",
       "      <th>Caraway Seed (Whole)</th>\n",
       "      <td>676</td>\n",
       "      <td>856</td>\n",
       "    </tr>\n",
       "    <tr>\n",
       "      <th>Bay Leaf (Whole)</th>\n",
       "      <td>667</td>\n",
       "      <td>799</td>\n",
       "    </tr>\n",
       "    <tr>\n",
       "      <th>Chamomile Flowers</th>\n",
       "      <td>553</td>\n",
       "      <td>474</td>\n",
       "    </tr>\n",
       "    <tr>\n",
       "      <th>East Special</th>\n",
       "      <td>400</td>\n",
       "      <td>751</td>\n",
       "    </tr>\n",
       "    <tr>\n",
       "      <th>Cardamom Seed (Whole)</th>\n",
       "      <td>379</td>\n",
       "      <td>375</td>\n",
       "    </tr>\n",
       "  </tbody>\n",
       "</table>\n",
       "</div>"
      ],
      "text/plain": [
       "                        Qtr1  Qtr2\n",
       "Product                           \n",
       "Basil Leaf (Whole)      9555  5975\n",
       "Celery Seed (Whole)     7543  7346\n",
       "Catnip Leaf              854   364\n",
       "Cardamom Seed (Ground)   844   848\n",
       "Anise Seeds              734   457\n",
       "Asafoetida Powder        688   468\n",
       "Caraway Seed (Whole)     676   856\n",
       "Bay Leaf (Whole)         667   799\n",
       "Chamomile Flowers        553   474\n",
       "East Special             400   751\n",
       "Cardamom Seed (Whole)    379   375"
      ]
     },
     "execution_count": 20,
     "metadata": {},
     "output_type": "execute_result"
    }
   ],
   "source": [
    "table[['Qtr1','Qtr2']]"
   ]
  },
  {
   "cell_type": "markdown",
   "metadata": {},
   "source": [
    "ดึง row จะได้เป็นประเภท Series"
   ]
  },
  {
   "cell_type": "code",
   "execution_count": 23,
   "metadata": {},
   "outputs": [
    {
     "data": {
      "text/html": [
       "<div>\n",
       "<style scoped>\n",
       "    .dataframe tbody tr th:only-of-type {\n",
       "        vertical-align: middle;\n",
       "    }\n",
       "\n",
       "    .dataframe tbody tr th {\n",
       "        vertical-align: top;\n",
       "    }\n",
       "\n",
       "    .dataframe thead th {\n",
       "        text-align: right;\n",
       "    }\n",
       "</style>\n",
       "<table border=\"1\" class=\"dataframe\">\n",
       "  <thead>\n",
       "    <tr style=\"text-align: right;\">\n",
       "      <th></th>\n",
       "      <th>Qtr1</th>\n",
       "      <th>Qtr2</th>\n",
       "      <th>Qtr3</th>\n",
       "      <th>Qtr4</th>\n",
       "    </tr>\n",
       "    <tr>\n",
       "      <th>Product</th>\n",
       "      <th></th>\n",
       "      <th></th>\n",
       "      <th></th>\n",
       "      <th></th>\n",
       "    </tr>\n",
       "  </thead>\n",
       "  <tbody>\n",
       "    <tr>\n",
       "      <th>Anise Seeds</th>\n",
       "      <td>734</td>\n",
       "      <td>457</td>\n",
       "      <td>327</td>\n",
       "      <td>235</td>\n",
       "    </tr>\n",
       "    <tr>\n",
       "      <th>Catnip Leaf</th>\n",
       "      <td>854</td>\n",
       "      <td>364</td>\n",
       "      <td>474</td>\n",
       "      <td>743</td>\n",
       "    </tr>\n",
       "  </tbody>\n",
       "</table>\n",
       "</div>"
      ],
      "text/plain": [
       "             Qtr1  Qtr2  Qtr3  Qtr4\n",
       "Product                            \n",
       "Anise Seeds   734   457   327   235\n",
       "Catnip Leaf   854   364   474   743"
      ]
     },
     "execution_count": 23,
     "metadata": {},
     "output_type": "execute_result"
    }
   ],
   "source": [
    "table.loc[['Anise Seeds','Catnip Leaf']]"
   ]
  },
  {
   "cell_type": "markdown",
   "metadata": {},
   "source": [
    "ดึง cell ใช้การดึง 2 รอบ column >> row หรือ row >> column"
   ]
  },
  {
   "cell_type": "code",
   "execution_count": 26,
   "metadata": {},
   "outputs": [
    {
     "data": {
      "text/plain": [
       "7346"
      ]
     },
     "execution_count": 26,
     "metadata": {},
     "output_type": "execute_result"
    }
   ],
   "source": [
    "table['Qtr2']['Celery Seed (Whole)']"
   ]
  },
  {
   "cell_type": "markdown",
   "metadata": {},
   "source": [
    "## ดึงหลายตำแหน่ง"
   ]
  },
  {
   "cell_type": "markdown",
   "metadata": {},
   "source": [
    "ดึงข้อมูลเป็นช่วง"
   ]
  },
  {
   "cell_type": "code",
   "execution_count": 27,
   "metadata": {},
   "outputs": [
    {
     "data": {
      "text/html": [
       "<div>\n",
       "<style scoped>\n",
       "    .dataframe tbody tr th:only-of-type {\n",
       "        vertical-align: middle;\n",
       "    }\n",
       "\n",
       "    .dataframe tbody tr th {\n",
       "        vertical-align: top;\n",
       "    }\n",
       "\n",
       "    .dataframe thead th {\n",
       "        text-align: right;\n",
       "    }\n",
       "</style>\n",
       "<table border=\"1\" class=\"dataframe\">\n",
       "  <thead>\n",
       "    <tr style=\"text-align: right;\">\n",
       "      <th></th>\n",
       "      <th>Qtr1</th>\n",
       "      <th>Qtr2</th>\n",
       "      <th>Qtr3</th>\n",
       "      <th>Qtr4</th>\n",
       "    </tr>\n",
       "    <tr>\n",
       "      <th>Product</th>\n",
       "      <th></th>\n",
       "      <th></th>\n",
       "      <th></th>\n",
       "      <th></th>\n",
       "    </tr>\n",
       "  </thead>\n",
       "  <tbody>\n",
       "    <tr>\n",
       "      <th>Basil Leaf (Whole)</th>\n",
       "      <td>9555</td>\n",
       "      <td>5975</td>\n",
       "      <td>5595</td>\n",
       "      <td>9659</td>\n",
       "    </tr>\n",
       "    <tr>\n",
       "      <th>Celery Seed (Whole)</th>\n",
       "      <td>7543</td>\n",
       "      <td>7346</td>\n",
       "      <td>3466</td>\n",
       "      <td>7474</td>\n",
       "    </tr>\n",
       "    <tr>\n",
       "      <th>Catnip Leaf</th>\n",
       "      <td>854</td>\n",
       "      <td>364</td>\n",
       "      <td>474</td>\n",
       "      <td>743</td>\n",
       "    </tr>\n",
       "    <tr>\n",
       "      <th>Cardamom Seed (Ground)</th>\n",
       "      <td>844</td>\n",
       "      <td>848</td>\n",
       "      <td>457</td>\n",
       "      <td>744</td>\n",
       "    </tr>\n",
       "    <tr>\n",
       "      <th>Anise Seeds</th>\n",
       "      <td>734</td>\n",
       "      <td>457</td>\n",
       "      <td>327</td>\n",
       "      <td>235</td>\n",
       "    </tr>\n",
       "    <tr>\n",
       "      <th>Asafoetida Powder</th>\n",
       "      <td>688</td>\n",
       "      <td>468</td>\n",
       "      <td>874</td>\n",
       "      <td>568</td>\n",
       "    </tr>\n",
       "    <tr>\n",
       "      <th>Caraway Seed (Whole)</th>\n",
       "      <td>676</td>\n",
       "      <td>856</td>\n",
       "      <td>855</td>\n",
       "      <td>866</td>\n",
       "    </tr>\n",
       "    <tr>\n",
       "      <th>Bay Leaf (Whole)</th>\n",
       "      <td>667</td>\n",
       "      <td>799</td>\n",
       "      <td>750</td>\n",
       "      <td>575</td>\n",
       "    </tr>\n",
       "    <tr>\n",
       "      <th>Chamomile Flowers</th>\n",
       "      <td>553</td>\n",
       "      <td>474</td>\n",
       "      <td>632</td>\n",
       "      <td>474</td>\n",
       "    </tr>\n",
       "    <tr>\n",
       "      <th>East Special</th>\n",
       "      <td>400</td>\n",
       "      <td>751</td>\n",
       "      <td>985</td>\n",
       "      <td>1450</td>\n",
       "    </tr>\n",
       "    <tr>\n",
       "      <th>Cardamom Seed (Whole)</th>\n",
       "      <td>379</td>\n",
       "      <td>375</td>\n",
       "      <td>377</td>\n",
       "      <td>745</td>\n",
       "    </tr>\n",
       "  </tbody>\n",
       "</table>\n",
       "</div>"
      ],
      "text/plain": [
       "                        Qtr1  Qtr2  Qtr3  Qtr4\n",
       "Product                                       \n",
       "Basil Leaf (Whole)      9555  5975  5595  9659\n",
       "Celery Seed (Whole)     7543  7346  3466  7474\n",
       "Catnip Leaf              854   364   474   743\n",
       "Cardamom Seed (Ground)   844   848   457   744\n",
       "Anise Seeds              734   457   327   235\n",
       "Asafoetida Powder        688   468   874   568\n",
       "Caraway Seed (Whole)     676   856   855   866\n",
       "Bay Leaf (Whole)         667   799   750   575\n",
       "Chamomile Flowers        553   474   632   474\n",
       "East Special             400   751   985  1450\n",
       "Cardamom Seed (Whole)    379   375   377   745"
      ]
     },
     "execution_count": 27,
     "metadata": {},
     "output_type": "execute_result"
    }
   ],
   "source": [
    "table"
   ]
  },
  {
   "cell_type": "code",
   "execution_count": 30,
   "metadata": {},
   "outputs": [
    {
     "data": {
      "text/plain": [
       "Product\n",
       "Basil Leaf (Whole)        5975\n",
       "Cardamom Seed (Ground)     848\n",
       "Name: Qtr2, dtype: int64"
      ]
     },
     "execution_count": 30,
     "metadata": {},
     "output_type": "execute_result"
    }
   ],
   "source": [
    "table.loc[['Basil Leaf (Whole)','Cardamom Seed (Ground)'],'Qtr2']"
   ]
  },
  {
   "cell_type": "code",
   "execution_count": 28,
   "metadata": {
    "scrolled": false
   },
   "outputs": [
    {
     "data": {
      "text/html": [
       "<div>\n",
       "<style scoped>\n",
       "    .dataframe tbody tr th:only-of-type {\n",
       "        vertical-align: middle;\n",
       "    }\n",
       "\n",
       "    .dataframe tbody tr th {\n",
       "        vertical-align: top;\n",
       "    }\n",
       "\n",
       "    .dataframe thead th {\n",
       "        text-align: right;\n",
       "    }\n",
       "</style>\n",
       "<table border=\"1\" class=\"dataframe\">\n",
       "  <thead>\n",
       "    <tr style=\"text-align: right;\">\n",
       "      <th></th>\n",
       "      <th>Qtr1</th>\n",
       "      <th>Qtr2</th>\n",
       "      <th>Qtr3</th>\n",
       "      <th>Qtr4</th>\n",
       "    </tr>\n",
       "    <tr>\n",
       "      <th>Product</th>\n",
       "      <th></th>\n",
       "      <th></th>\n",
       "      <th></th>\n",
       "      <th></th>\n",
       "    </tr>\n",
       "  </thead>\n",
       "  <tbody>\n",
       "    <tr>\n",
       "      <th>Basil Leaf (Whole)</th>\n",
       "      <td>9555</td>\n",
       "      <td>5975</td>\n",
       "      <td>5595</td>\n",
       "      <td>9659</td>\n",
       "    </tr>\n",
       "    <tr>\n",
       "      <th>Celery Seed (Whole)</th>\n",
       "      <td>7543</td>\n",
       "      <td>7346</td>\n",
       "      <td>3466</td>\n",
       "      <td>7474</td>\n",
       "    </tr>\n",
       "    <tr>\n",
       "      <th>Catnip Leaf</th>\n",
       "      <td>854</td>\n",
       "      <td>364</td>\n",
       "      <td>474</td>\n",
       "      <td>743</td>\n",
       "    </tr>\n",
       "  </tbody>\n",
       "</table>\n",
       "</div>"
      ],
      "text/plain": [
       "                     Qtr1  Qtr2  Qtr3  Qtr4\n",
       "Product                                    \n",
       "Basil Leaf (Whole)   9555  5975  5595  9659\n",
       "Celery Seed (Whole)  7543  7346  3466  7474\n",
       "Catnip Leaf           854   364   474   743"
      ]
     },
     "execution_count": 28,
     "metadata": {},
     "output_type": "execute_result"
    }
   ],
   "source": [
    "table.loc['Basil Leaf (Whole)':'Catnip Leaf','Qtr1':'Qtr4']"
   ]
  },
  {
   "cell_type": "markdown",
   "metadata": {},
   "source": [
    "เลือกดึงข้อมูล"
   ]
  },
  {
   "cell_type": "code",
   "execution_count": 29,
   "metadata": {
    "scrolled": true
   },
   "outputs": [
    {
     "data": {
      "text/html": [
       "<div>\n",
       "<style scoped>\n",
       "    .dataframe tbody tr th:only-of-type {\n",
       "        vertical-align: middle;\n",
       "    }\n",
       "\n",
       "    .dataframe tbody tr th {\n",
       "        vertical-align: top;\n",
       "    }\n",
       "\n",
       "    .dataframe thead th {\n",
       "        text-align: right;\n",
       "    }\n",
       "</style>\n",
       "<table border=\"1\" class=\"dataframe\">\n",
       "  <thead>\n",
       "    <tr style=\"text-align: right;\">\n",
       "      <th></th>\n",
       "      <th>Qtr1</th>\n",
       "      <th>Qtr4</th>\n",
       "    </tr>\n",
       "    <tr>\n",
       "      <th>Product</th>\n",
       "      <th></th>\n",
       "      <th></th>\n",
       "    </tr>\n",
       "  </thead>\n",
       "  <tbody>\n",
       "    <tr>\n",
       "      <th>Basil Leaf (Whole)</th>\n",
       "      <td>9555</td>\n",
       "      <td>9659</td>\n",
       "    </tr>\n",
       "    <tr>\n",
       "      <th>Catnip Leaf</th>\n",
       "      <td>854</td>\n",
       "      <td>743</td>\n",
       "    </tr>\n",
       "  </tbody>\n",
       "</table>\n",
       "</div>"
      ],
      "text/plain": [
       "                    Qtr1  Qtr4\n",
       "Product                       \n",
       "Basil Leaf (Whole)  9555  9659\n",
       "Catnip Leaf          854   743"
      ]
     },
     "execution_count": 29,
     "metadata": {},
     "output_type": "execute_result"
    }
   ],
   "source": [
    "table.loc[['Basil Leaf (Whole)','Catnip Leaf'],['Qtr1','Qtr4']]"
   ]
  },
  {
   "cell_type": "markdown",
   "metadata": {},
   "source": [
    "## ดึงหลายตำแหน่ง ด้วยตำแหน่ง"
   ]
  },
  {
   "cell_type": "markdown",
   "metadata": {},
   "source": [
    "ดึงข้อมูลเป็นช่วง"
   ]
  },
  {
   "cell_type": "code",
   "execution_count": 37,
   "metadata": {
    "scrolled": false
   },
   "outputs": [
    {
     "data": {
      "text/html": [
       "<div>\n",
       "<style scoped>\n",
       "    .dataframe tbody tr th:only-of-type {\n",
       "        vertical-align: middle;\n",
       "    }\n",
       "\n",
       "    .dataframe tbody tr th {\n",
       "        vertical-align: top;\n",
       "    }\n",
       "\n",
       "    .dataframe thead th {\n",
       "        text-align: right;\n",
       "    }\n",
       "</style>\n",
       "<table border=\"1\" class=\"dataframe\">\n",
       "  <thead>\n",
       "    <tr style=\"text-align: right;\">\n",
       "      <th></th>\n",
       "      <th>Qtr1</th>\n",
       "      <th>Qtr2</th>\n",
       "      <th>Qtr3</th>\n",
       "    </tr>\n",
       "    <tr>\n",
       "      <th>Product</th>\n",
       "      <th></th>\n",
       "      <th></th>\n",
       "      <th></th>\n",
       "    </tr>\n",
       "  </thead>\n",
       "  <tbody>\n",
       "    <tr>\n",
       "      <th>Basil Leaf (Whole)</th>\n",
       "      <td>9555</td>\n",
       "      <td>5975</td>\n",
       "      <td>5595</td>\n",
       "    </tr>\n",
       "    <tr>\n",
       "      <th>Celery Seed (Whole)</th>\n",
       "      <td>7543</td>\n",
       "      <td>7346</td>\n",
       "      <td>3466</td>\n",
       "    </tr>\n",
       "  </tbody>\n",
       "</table>\n",
       "</div>"
      ],
      "text/plain": [
       "                     Qtr1  Qtr2  Qtr3\n",
       "Product                              \n",
       "Basil Leaf (Whole)   9555  5975  5595\n",
       "Celery Seed (Whole)  7543  7346  3466"
      ]
     },
     "execution_count": 37,
     "metadata": {},
     "output_type": "execute_result"
    }
   ],
   "source": [
    "table.iloc[0:2,0:3]"
   ]
  },
  {
   "cell_type": "markdown",
   "metadata": {},
   "source": [
    "เลือกดึงข้อมูล"
   ]
  },
  {
   "cell_type": "code",
   "execution_count": 38,
   "metadata": {
    "scrolled": true
   },
   "outputs": [
    {
     "data": {
      "text/html": [
       "<div>\n",
       "<style scoped>\n",
       "    .dataframe tbody tr th:only-of-type {\n",
       "        vertical-align: middle;\n",
       "    }\n",
       "\n",
       "    .dataframe tbody tr th {\n",
       "        vertical-align: top;\n",
       "    }\n",
       "\n",
       "    .dataframe thead th {\n",
       "        text-align: right;\n",
       "    }\n",
       "</style>\n",
       "<table border=\"1\" class=\"dataframe\">\n",
       "  <thead>\n",
       "    <tr style=\"text-align: right;\">\n",
       "      <th></th>\n",
       "      <th>Qtr1</th>\n",
       "      <th>Qtr4</th>\n",
       "    </tr>\n",
       "    <tr>\n",
       "      <th>Product</th>\n",
       "      <th></th>\n",
       "      <th></th>\n",
       "    </tr>\n",
       "  </thead>\n",
       "  <tbody>\n",
       "    <tr>\n",
       "      <th>Basil Leaf (Whole)</th>\n",
       "      <td>9555</td>\n",
       "      <td>9659</td>\n",
       "    </tr>\n",
       "    <tr>\n",
       "      <th>Catnip Leaf</th>\n",
       "      <td>854</td>\n",
       "      <td>743</td>\n",
       "    </tr>\n",
       "  </tbody>\n",
       "</table>\n",
       "</div>"
      ],
      "text/plain": [
       "                    Qtr1  Qtr4\n",
       "Product                       \n",
       "Basil Leaf (Whole)  9555  9659\n",
       "Catnip Leaf          854   743"
      ]
     },
     "execution_count": 38,
     "metadata": {},
     "output_type": "execute_result"
    }
   ],
   "source": [
    "table.iloc[[0,2],[0,3]]"
   ]
  },
  {
   "cell_type": "markdown",
   "metadata": {},
   "source": [
    "## ดึงข้อมูลทั้งหมด"
   ]
  },
  {
   "cell_type": "markdown",
   "metadata": {},
   "source": [
    "ใช้สัญลักษณ์ :"
   ]
  },
  {
   "cell_type": "code",
   "execution_count": 44,
   "metadata": {
    "scrolled": false
   },
   "outputs": [
    {
     "data": {
      "text/html": [
       "<div>\n",
       "<style scoped>\n",
       "    .dataframe tbody tr th:only-of-type {\n",
       "        vertical-align: middle;\n",
       "    }\n",
       "\n",
       "    .dataframe tbody tr th {\n",
       "        vertical-align: top;\n",
       "    }\n",
       "\n",
       "    .dataframe thead th {\n",
       "        text-align: right;\n",
       "    }\n",
       "</style>\n",
       "<table border=\"1\" class=\"dataframe\">\n",
       "  <thead>\n",
       "    <tr style=\"text-align: right;\">\n",
       "      <th></th>\n",
       "      <th>Qtr1</th>\n",
       "      <th>Qtr4</th>\n",
       "    </tr>\n",
       "    <tr>\n",
       "      <th>Product</th>\n",
       "      <th></th>\n",
       "      <th></th>\n",
       "    </tr>\n",
       "  </thead>\n",
       "  <tbody>\n",
       "    <tr>\n",
       "      <th>Basil Leaf (Whole)</th>\n",
       "      <td>9555</td>\n",
       "      <td>9659</td>\n",
       "    </tr>\n",
       "    <tr>\n",
       "      <th>Celery Seed (Whole)</th>\n",
       "      <td>7543</td>\n",
       "      <td>7474</td>\n",
       "    </tr>\n",
       "    <tr>\n",
       "      <th>Catnip Leaf</th>\n",
       "      <td>854</td>\n",
       "      <td>743</td>\n",
       "    </tr>\n",
       "    <tr>\n",
       "      <th>Cardamom Seed (Ground)</th>\n",
       "      <td>844</td>\n",
       "      <td>744</td>\n",
       "    </tr>\n",
       "    <tr>\n",
       "      <th>Anise Seeds</th>\n",
       "      <td>734</td>\n",
       "      <td>235</td>\n",
       "    </tr>\n",
       "    <tr>\n",
       "      <th>Asafoetida Powder</th>\n",
       "      <td>688</td>\n",
       "      <td>568</td>\n",
       "    </tr>\n",
       "    <tr>\n",
       "      <th>Caraway Seed (Whole)</th>\n",
       "      <td>676</td>\n",
       "      <td>866</td>\n",
       "    </tr>\n",
       "    <tr>\n",
       "      <th>Bay Leaf (Whole)</th>\n",
       "      <td>667</td>\n",
       "      <td>575</td>\n",
       "    </tr>\n",
       "    <tr>\n",
       "      <th>Chamomile Flowers</th>\n",
       "      <td>553</td>\n",
       "      <td>474</td>\n",
       "    </tr>\n",
       "    <tr>\n",
       "      <th>East Special</th>\n",
       "      <td>400</td>\n",
       "      <td>1450</td>\n",
       "    </tr>\n",
       "    <tr>\n",
       "      <th>Cardamom Seed (Whole)</th>\n",
       "      <td>379</td>\n",
       "      <td>745</td>\n",
       "    </tr>\n",
       "  </tbody>\n",
       "</table>\n",
       "</div>"
      ],
      "text/plain": [
       "                        Qtr1  Qtr4\n",
       "Product                           \n",
       "Basil Leaf (Whole)      9555  9659\n",
       "Celery Seed (Whole)     7543  7474\n",
       "Catnip Leaf              854   743\n",
       "Cardamom Seed (Ground)   844   744\n",
       "Anise Seeds              734   235\n",
       "Asafoetida Powder        688   568\n",
       "Caraway Seed (Whole)     676   866\n",
       "Bay Leaf (Whole)         667   575\n",
       "Chamomile Flowers        553   474\n",
       "East Special             400  1450\n",
       "Cardamom Seed (Whole)    379   745"
      ]
     },
     "execution_count": 44,
     "metadata": {},
     "output_type": "execute_result"
    }
   ],
   "source": [
    "table.iloc[:,[0,3]]"
   ]
  },
  {
   "cell_type": "markdown",
   "metadata": {},
   "source": [
    "## บันทึกข้อมูล"
   ]
  },
  {
   "cell_type": "markdown",
   "metadata": {},
   "source": [
    "บันทึก DataFrame เป็นไฟล์ excel ด้วยการระบุชื่อไฟล์ และตำแหน่ง"
   ]
  },
  {
   "cell_type": "code",
   "execution_count": null,
   "metadata": {},
   "outputs": [],
   "source": [
    "table.to_excel('new_excel.xlsx')"
   ]
  }
 ],
 "metadata": {
  "kernelspec": {
   "display_name": "Python 3",
   "language": "python",
   "name": "python3"
  },
  "language_info": {
   "codemirror_mode": {
    "name": "ipython",
    "version": 3
   },
   "file_extension": ".py",
   "mimetype": "text/x-python",
   "name": "python",
   "nbconvert_exporter": "python",
   "pygments_lexer": "ipython3",
   "version": "3.7.7"
  }
 },
 "nbformat": 4,
 "nbformat_minor": 4
}
