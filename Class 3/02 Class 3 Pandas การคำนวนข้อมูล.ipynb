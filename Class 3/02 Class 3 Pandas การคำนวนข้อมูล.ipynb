{
 "cells": [
  {
   "cell_type": "markdown",
   "metadata": {},
   "source": [
    "# Pandas"
   ]
  },
  {
   "cell_type": "markdown",
   "metadata": {},
   "source": [
    "มีการคำนวน ที่จับคู่ column, row ต้องมีการ fill_value=0 เพื่อจัดการข้อมูลที่ขาดหาย"
   ]
  },
  {
   "cell_type": "markdown",
   "metadata": {},
   "source": [
    "## นำเข้าเครื่องมือ"
   ]
  },
  {
   "cell_type": "code",
   "execution_count": 1,
   "metadata": {
    "scrolled": true
   },
   "outputs": [],
   "source": [
    "import pandas as pd"
   ]
  },
  {
   "cell_type": "markdown",
   "metadata": {},
   "source": [
    "## DataFrame ที่ใช้"
   ]
  },
  {
   "cell_type": "markdown",
   "metadata": {},
   "source": [
    "ไฟล์ object ที่เปิดด้วย pandas จะเรียกว่า DataFrame"
   ]
  },
  {
   "cell_type": "code",
   "execution_count": 2,
   "metadata": {},
   "outputs": [],
   "source": [
    "east = pd.read_excel('excel/East.xlsx').set_index('Product')\n",
    "south = pd.read_excel('excel/South.xlsx').set_index('Product')"
   ]
  },
  {
   "cell_type": "markdown",
   "metadata": {},
   "source": [
    "## คำนวนระหว่างข้อมูล"
   ]
  },
  {
   "cell_type": "markdown",
   "metadata": {},
   "source": [
    "Pandas จะให้ความสำคัญกับชื่อ column, row มากๆ เพราะใช้จัดการ เข้าถึงข้อมูล"
   ]
  },
  {
   "cell_type": "code",
   "execution_count": 4,
   "metadata": {},
   "outputs": [],
   "source": [
    "east_q1 = east['Qtr1']\n",
    "south_q1 = south['Qtr1']"
   ]
  },
  {
   "cell_type": "markdown",
   "metadata": {},
   "source": [
    "Column"
   ]
  },
  {
   "cell_type": "code",
   "execution_count": 10,
   "metadata": {},
   "outputs": [
    {
     "data": {
      "text/plain": [
       "Product\n",
       "Anise Seeds                1567.0\n",
       "Asafoetida Powder          1441.0\n",
       "Basil Leaf (Whole)        18121.0\n",
       "Bay Leaf (Whole)           1244.0\n",
       "Caraway Seed (Whole)       1530.0\n",
       "Cardamom Seed (Ground)     1666.0\n",
       "Cardamom Seed (Whole)       736.0\n",
       "Catnip Leaf                1708.0\n",
       "Celery Seed (Whole)       15875.0\n",
       "Chamomile Flowers           925.0\n",
       "East Special                400.0\n",
       "South Special              4215.0\n",
       "Name: Qtr1, dtype: float64"
      ]
     },
     "execution_count": 10,
     "metadata": {},
     "output_type": "execute_result"
    }
   ],
   "source": [
    "east_q1.add(south_q1,fill_value=0)"
   ]
  },
  {
   "cell_type": "markdown",
   "metadata": {},
   "source": [
    "DataFrame"
   ]
  },
  {
   "cell_type": "code",
   "execution_count": 9,
   "metadata": {
    "scrolled": true
   },
   "outputs": [
    {
     "data": {
      "text/html": [
       "<div>\n",
       "<style scoped>\n",
       "    .dataframe tbody tr th:only-of-type {\n",
       "        vertical-align: middle;\n",
       "    }\n",
       "\n",
       "    .dataframe tbody tr th {\n",
       "        vertical-align: top;\n",
       "    }\n",
       "\n",
       "    .dataframe thead th {\n",
       "        text-align: right;\n",
       "    }\n",
       "</style>\n",
       "<table border=\"1\" class=\"dataframe\">\n",
       "  <thead>\n",
       "    <tr style=\"text-align: right;\">\n",
       "      <th></th>\n",
       "      <th>Qtr1</th>\n",
       "      <th>Qtr2</th>\n",
       "      <th>Qtr3</th>\n",
       "      <th>Qtr4</th>\n",
       "    </tr>\n",
       "    <tr>\n",
       "      <th>Product</th>\n",
       "      <th></th>\n",
       "      <th></th>\n",
       "      <th></th>\n",
       "      <th></th>\n",
       "    </tr>\n",
       "  </thead>\n",
       "  <tbody>\n",
       "    <tr>\n",
       "      <th>Anise Seeds</th>\n",
       "      <td>1567.0</td>\n",
       "      <td>1190.0</td>\n",
       "      <td>1392.0</td>\n",
       "      <td>1433.0</td>\n",
       "    </tr>\n",
       "    <tr>\n",
       "      <th>Asafoetida Powder</th>\n",
       "      <td>1441.0</td>\n",
       "      <td>1312.0</td>\n",
       "      <td>1898.0</td>\n",
       "      <td>1725.0</td>\n",
       "    </tr>\n",
       "    <tr>\n",
       "      <th>Basil Leaf (Whole)</th>\n",
       "      <td>18121.0</td>\n",
       "      <td>15531.0</td>\n",
       "      <td>14149.0</td>\n",
       "      <td>17545.0</td>\n",
       "    </tr>\n",
       "    <tr>\n",
       "      <th>Bay Leaf (Whole)</th>\n",
       "      <td>1244.0</td>\n",
       "      <td>1654.0</td>\n",
       "      <td>1594.0</td>\n",
       "      <td>1309.0</td>\n",
       "    </tr>\n",
       "    <tr>\n",
       "      <th>Caraway Seed (Whole)</th>\n",
       "      <td>1530.0</td>\n",
       "      <td>1822.0</td>\n",
       "      <td>1528.0</td>\n",
       "      <td>1621.0</td>\n",
       "    </tr>\n",
       "    <tr>\n",
       "      <th>Cardamom Seed (Ground)</th>\n",
       "      <td>1666.0</td>\n",
       "      <td>1431.0</td>\n",
       "      <td>1290.0</td>\n",
       "      <td>1578.0</td>\n",
       "    </tr>\n",
       "    <tr>\n",
       "      <th>Cardamom Seed (Whole)</th>\n",
       "      <td>736.0</td>\n",
       "      <td>1108.0</td>\n",
       "      <td>1130.0</td>\n",
       "      <td>1377.0</td>\n",
       "    </tr>\n",
       "    <tr>\n",
       "      <th>Catnip Leaf</th>\n",
       "      <td>1708.0</td>\n",
       "      <td>728.0</td>\n",
       "      <td>948.0</td>\n",
       "      <td>1476.0</td>\n",
       "    </tr>\n",
       "    <tr>\n",
       "      <th>Celery Seed (Whole)</th>\n",
       "      <td>15875.0</td>\n",
       "      <td>15718.0</td>\n",
       "      <td>10893.0</td>\n",
       "      <td>13257.0</td>\n",
       "    </tr>\n",
       "    <tr>\n",
       "      <th>Chamomile Flowers</th>\n",
       "      <td>925.0</td>\n",
       "      <td>1316.0</td>\n",
       "      <td>1097.0</td>\n",
       "      <td>840.0</td>\n",
       "    </tr>\n",
       "    <tr>\n",
       "      <th>East Special</th>\n",
       "      <td>400.0</td>\n",
       "      <td>751.0</td>\n",
       "      <td>985.0</td>\n",
       "      <td>1450.0</td>\n",
       "    </tr>\n",
       "    <tr>\n",
       "      <th>South Special</th>\n",
       "      <td>4215.0</td>\n",
       "      <td>1245.0</td>\n",
       "      <td>3562.0</td>\n",
       "      <td>2154.0</td>\n",
       "    </tr>\n",
       "  </tbody>\n",
       "</table>\n",
       "</div>"
      ],
      "text/plain": [
       "                           Qtr1     Qtr2     Qtr3     Qtr4\n",
       "Product                                                   \n",
       "Anise Seeds              1567.0   1190.0   1392.0   1433.0\n",
       "Asafoetida Powder        1441.0   1312.0   1898.0   1725.0\n",
       "Basil Leaf (Whole)      18121.0  15531.0  14149.0  17545.0\n",
       "Bay Leaf (Whole)         1244.0   1654.0   1594.0   1309.0\n",
       "Caraway Seed (Whole)     1530.0   1822.0   1528.0   1621.0\n",
       "Cardamom Seed (Ground)   1666.0   1431.0   1290.0   1578.0\n",
       "Cardamom Seed (Whole)     736.0   1108.0   1130.0   1377.0\n",
       "Catnip Leaf              1708.0    728.0    948.0   1476.0\n",
       "Celery Seed (Whole)     15875.0  15718.0  10893.0  13257.0\n",
       "Chamomile Flowers         925.0   1316.0   1097.0    840.0\n",
       "East Special              400.0    751.0    985.0   1450.0\n",
       "South Special            4215.0   1245.0   3562.0   2154.0"
      ]
     },
     "execution_count": 9,
     "metadata": {},
     "output_type": "execute_result"
    }
   ],
   "source": [
    "east.add(south,fill_value=0)"
   ]
  },
  {
   "cell_type": "markdown",
   "metadata": {},
   "source": [
    "ตัวเลข"
   ]
  },
  {
   "cell_type": "code",
   "execution_count": 13,
   "metadata": {
    "scrolled": true
   },
   "outputs": [
    {
     "data": {
      "text/html": [
       "<div>\n",
       "<style scoped>\n",
       "    .dataframe tbody tr th:only-of-type {\n",
       "        vertical-align: middle;\n",
       "    }\n",
       "\n",
       "    .dataframe tbody tr th {\n",
       "        vertical-align: top;\n",
       "    }\n",
       "\n",
       "    .dataframe thead th {\n",
       "        text-align: right;\n",
       "    }\n",
       "</style>\n",
       "<table border=\"1\" class=\"dataframe\">\n",
       "  <thead>\n",
       "    <tr style=\"text-align: right;\">\n",
       "      <th></th>\n",
       "      <th>Qtr1</th>\n",
       "      <th>Qtr2</th>\n",
       "      <th>Qtr3</th>\n",
       "      <th>Qtr4</th>\n",
       "    </tr>\n",
       "    <tr>\n",
       "      <th>Product</th>\n",
       "      <th></th>\n",
       "      <th></th>\n",
       "      <th></th>\n",
       "      <th></th>\n",
       "    </tr>\n",
       "  </thead>\n",
       "  <tbody>\n",
       "    <tr>\n",
       "      <th>Basil Leaf (Whole)</th>\n",
       "      <td>95550</td>\n",
       "      <td>59750</td>\n",
       "      <td>55950</td>\n",
       "      <td>96590</td>\n",
       "    </tr>\n",
       "    <tr>\n",
       "      <th>Celery Seed (Whole)</th>\n",
       "      <td>75430</td>\n",
       "      <td>73460</td>\n",
       "      <td>34660</td>\n",
       "      <td>74740</td>\n",
       "    </tr>\n",
       "    <tr>\n",
       "      <th>Catnip Leaf</th>\n",
       "      <td>8540</td>\n",
       "      <td>3640</td>\n",
       "      <td>4740</td>\n",
       "      <td>7430</td>\n",
       "    </tr>\n",
       "    <tr>\n",
       "      <th>Cardamom Seed (Ground)</th>\n",
       "      <td>8440</td>\n",
       "      <td>8480</td>\n",
       "      <td>4570</td>\n",
       "      <td>7440</td>\n",
       "    </tr>\n",
       "    <tr>\n",
       "      <th>Anise Seeds</th>\n",
       "      <td>7340</td>\n",
       "      <td>4570</td>\n",
       "      <td>3270</td>\n",
       "      <td>2350</td>\n",
       "    </tr>\n",
       "    <tr>\n",
       "      <th>Asafoetida Powder</th>\n",
       "      <td>6880</td>\n",
       "      <td>4680</td>\n",
       "      <td>8740</td>\n",
       "      <td>5680</td>\n",
       "    </tr>\n",
       "    <tr>\n",
       "      <th>Caraway Seed (Whole)</th>\n",
       "      <td>6760</td>\n",
       "      <td>8560</td>\n",
       "      <td>8550</td>\n",
       "      <td>8660</td>\n",
       "    </tr>\n",
       "    <tr>\n",
       "      <th>Bay Leaf (Whole)</th>\n",
       "      <td>6670</td>\n",
       "      <td>7990</td>\n",
       "      <td>7500</td>\n",
       "      <td>5750</td>\n",
       "    </tr>\n",
       "    <tr>\n",
       "      <th>Chamomile Flowers</th>\n",
       "      <td>5530</td>\n",
       "      <td>4740</td>\n",
       "      <td>6320</td>\n",
       "      <td>4740</td>\n",
       "    </tr>\n",
       "    <tr>\n",
       "      <th>East Special</th>\n",
       "      <td>4000</td>\n",
       "      <td>7510</td>\n",
       "      <td>9850</td>\n",
       "      <td>14500</td>\n",
       "    </tr>\n",
       "    <tr>\n",
       "      <th>Cardamom Seed (Whole)</th>\n",
       "      <td>3790</td>\n",
       "      <td>3750</td>\n",
       "      <td>3770</td>\n",
       "      <td>7450</td>\n",
       "    </tr>\n",
       "  </tbody>\n",
       "</table>\n",
       "</div>"
      ],
      "text/plain": [
       "                         Qtr1   Qtr2   Qtr3   Qtr4\n",
       "Product                                           \n",
       "Basil Leaf (Whole)      95550  59750  55950  96590\n",
       "Celery Seed (Whole)     75430  73460  34660  74740\n",
       "Catnip Leaf              8540   3640   4740   7430\n",
       "Cardamom Seed (Ground)   8440   8480   4570   7440\n",
       "Anise Seeds              7340   4570   3270   2350\n",
       "Asafoetida Powder        6880   4680   8740   5680\n",
       "Caraway Seed (Whole)     6760   8560   8550   8660\n",
       "Bay Leaf (Whole)         6670   7990   7500   5750\n",
       "Chamomile Flowers        5530   4740   6320   4740\n",
       "East Special             4000   7510   9850  14500\n",
       "Cardamom Seed (Whole)    3790   3750   3770   7450"
      ]
     },
     "execution_count": 13,
     "metadata": {},
     "output_type": "execute_result"
    }
   ],
   "source": [
    "east * 10"
   ]
  },
  {
   "cell_type": "markdown",
   "metadata": {},
   "source": [
    "## คำนวนใน DataFrame"
   ]
  },
  {
   "cell_type": "markdown",
   "metadata": {},
   "source": [
    "หาผลรวม  row"
   ]
  },
  {
   "cell_type": "code",
   "execution_count": 17,
   "metadata": {},
   "outputs": [
    {
     "data": {
      "text/plain": [
       "Product\n",
       "Basil Leaf (Whole)        30784\n",
       "Celery Seed (Whole)       25829\n",
       "Catnip Leaf                2435\n",
       "Cardamom Seed (Ground)     2893\n",
       "Anise Seeds                1753\n",
       "Asafoetida Powder          2598\n",
       "Caraway Seed (Whole)       3253\n",
       "Bay Leaf (Whole)           2791\n",
       "Chamomile Flowers          2133\n",
       "East Special               3586\n",
       "Cardamom Seed (Whole)      1876\n",
       "dtype: int64"
      ]
     },
     "execution_count": 17,
     "metadata": {},
     "output_type": "execute_result"
    }
   ],
   "source": [
    "east.sum(axis=1)"
   ]
  },
  {
   "cell_type": "code",
   "execution_count": 14,
   "metadata": {},
   "outputs": [
    {
     "data": {
      "text/plain": [
       "Qtr1    22893\n",
       "Qtr2    18713\n",
       "Qtr3    14792\n",
       "Qtr4    23533\n",
       "dtype: int64"
      ]
     },
     "execution_count": 14,
     "metadata": {},
     "output_type": "execute_result"
    }
   ],
   "source": [
    "east.sum(axis=0)"
   ]
  },
  {
   "cell_type": "markdown",
   "metadata": {},
   "source": [
    "หาผลรวม column"
   ]
  },
  {
   "cell_type": "code",
   "execution_count": 15,
   "metadata": {},
   "outputs": [
    {
     "data": {
      "text/plain": [
       "Product\n",
       "Basil Leaf (Whole)        30784\n",
       "Celery Seed (Whole)       25829\n",
       "Catnip Leaf                2435\n",
       "Cardamom Seed (Ground)     2893\n",
       "Anise Seeds                1753\n",
       "Asafoetida Powder          2598\n",
       "Caraway Seed (Whole)       3253\n",
       "Bay Leaf (Whole)           2791\n",
       "Chamomile Flowers          2133\n",
       "East Special               3586\n",
       "Cardamom Seed (Whole)      1876\n",
       "dtype: int64"
      ]
     },
     "execution_count": 15,
     "metadata": {},
     "output_type": "execute_result"
    }
   ],
   "source": [
    "east.sum(axis=1)"
   ]
  }
 ],
 "metadata": {
  "kernelspec": {
   "display_name": "Python 3",
   "language": "python",
   "name": "python3"
  },
  "language_info": {
   "codemirror_mode": {
    "name": "ipython",
    "version": 3
   },
   "file_extension": ".py",
   "mimetype": "text/x-python",
   "name": "python",
   "nbconvert_exporter": "python",
   "pygments_lexer": "ipython3",
   "version": "3.7.7"
  }
 },
 "nbformat": 4,
 "nbformat_minor": 4
}
