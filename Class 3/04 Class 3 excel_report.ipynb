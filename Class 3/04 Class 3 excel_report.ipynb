{
 "cells": [
  {
   "cell_type": "markdown",
   "metadata": {},
   "source": [
    "## ประเภทไฟล์"
   ]
  },
  {
   "cell_type": "markdown",
   "metadata": {},
   "source": [
    "นำเข้าเครื่องมือ"
   ]
  },
  {
   "cell_type": "code",
   "execution_count": 1,
   "metadata": {
    "scrolled": true
   },
   "outputs": [],
   "source": [
    "import os"
   ]
  },
  {
   "cell_type": "code",
   "execution_count": 2,
   "metadata": {},
   "outputs": [],
   "source": [
    "from file_management import get_files"
   ]
  },
  {
   "cell_type": "markdown",
   "metadata": {},
   "source": [
    "ประเภทไฟล์"
   ]
  },
  {
   "cell_type": "code",
   "execution_count": 3,
   "metadata": {},
   "outputs": [],
   "source": [
    "import pandas as pd"
   ]
  },
  {
   "cell_type": "code",
   "execution_count": 9,
   "metadata": {},
   "outputs": [
    {
     "data": {
      "text/html": [
       "<div>\n",
       "<style scoped>\n",
       "    .dataframe tbody tr th:only-of-type {\n",
       "        vertical-align: middle;\n",
       "    }\n",
       "\n",
       "    .dataframe tbody tr th {\n",
       "        vertical-align: top;\n",
       "    }\n",
       "\n",
       "    .dataframe thead th {\n",
       "        text-align: right;\n",
       "    }\n",
       "</style>\n",
       "<table border=\"1\" class=\"dataframe\">\n",
       "  <thead>\n",
       "    <tr style=\"text-align: right;\">\n",
       "      <th></th>\n",
       "      <th>Qtr1</th>\n",
       "      <th>Qtr2</th>\n",
       "      <th>Qtr3</th>\n",
       "      <th>Qtr4</th>\n",
       "    </tr>\n",
       "    <tr>\n",
       "      <th>Product</th>\n",
       "      <th></th>\n",
       "      <th></th>\n",
       "      <th></th>\n",
       "      <th></th>\n",
       "    </tr>\n",
       "  </thead>\n",
       "  <tbody>\n",
       "    <tr>\n",
       "      <th>Basil Leaf (Whole)</th>\n",
       "      <td>6778</td>\n",
       "      <td>6760</td>\n",
       "      <td>4568</td>\n",
       "      <td>7834</td>\n",
       "    </tr>\n",
       "    <tr>\n",
       "      <th>Celery Seed (Whole)</th>\n",
       "      <td>3634</td>\n",
       "      <td>6344</td>\n",
       "      <td>6423</td>\n",
       "      <td>2546</td>\n",
       "    </tr>\n",
       "    <tr>\n",
       "      <th>North Special</th>\n",
       "      <td>875</td>\n",
       "      <td>1452</td>\n",
       "      <td>254</td>\n",
       "      <td>2451</td>\n",
       "    </tr>\n",
       "    <tr>\n",
       "      <th>Catnip Leaf</th>\n",
       "      <td>854</td>\n",
       "      <td>364</td>\n",
       "      <td>474</td>\n",
       "      <td>743</td>\n",
       "    </tr>\n",
       "    <tr>\n",
       "      <th>Asafoetida Powder</th>\n",
       "      <td>654</td>\n",
       "      <td>634</td>\n",
       "      <td>326</td>\n",
       "      <td>754</td>\n",
       "    </tr>\n",
       "  </tbody>\n",
       "</table>\n",
       "</div>"
      ],
      "text/plain": [
       "                     Qtr1  Qtr2  Qtr3  Qtr4\n",
       "Product                                    \n",
       "Basil Leaf (Whole)   6778  6760  4568  7834\n",
       "Celery Seed (Whole)  3634  6344  6423  2546\n",
       "North Special         875  1452   254  2451\n",
       "Catnip Leaf           854   364   474   743\n",
       "Asafoetida Powder     654   634   326   754"
      ]
     },
     "execution_count": 9,
     "metadata": {},
     "output_type": "execute_result"
    }
   ],
   "source": [
    "north = pd.read_csv('excel/North.csv',index_col=[0])\n",
    "north.head(5)"
   ]
  },
  {
   "cell_type": "code",
   "execution_count": 7,
   "metadata": {
    "scrolled": true
   },
   "outputs": [
    {
     "data": {
      "text/html": [
       "<div>\n",
       "<style scoped>\n",
       "    .dataframe tbody tr th:only-of-type {\n",
       "        vertical-align: middle;\n",
       "    }\n",
       "\n",
       "    .dataframe tbody tr th {\n",
       "        vertical-align: top;\n",
       "    }\n",
       "\n",
       "    .dataframe thead th {\n",
       "        text-align: right;\n",
       "    }\n",
       "</style>\n",
       "<table border=\"1\" class=\"dataframe\">\n",
       "  <thead>\n",
       "    <tr style=\"text-align: right;\">\n",
       "      <th></th>\n",
       "      <th>Qtr1</th>\n",
       "      <th>Qtr2</th>\n",
       "      <th>Qtr3</th>\n",
       "      <th>Qtr4</th>\n",
       "    </tr>\n",
       "    <tr>\n",
       "      <th>Product</th>\n",
       "      <th></th>\n",
       "      <th></th>\n",
       "      <th></th>\n",
       "      <th></th>\n",
       "    </tr>\n",
       "  </thead>\n",
       "  <tbody>\n",
       "    <tr>\n",
       "      <th>Basil Leaf (Whole)</th>\n",
       "      <td>9555</td>\n",
       "      <td>5975</td>\n",
       "      <td>5595</td>\n",
       "      <td>9659</td>\n",
       "    </tr>\n",
       "    <tr>\n",
       "      <th>Celery Seed (Whole)</th>\n",
       "      <td>7543</td>\n",
       "      <td>7346</td>\n",
       "      <td>3466</td>\n",
       "      <td>7474</td>\n",
       "    </tr>\n",
       "    <tr>\n",
       "      <th>Catnip Leaf</th>\n",
       "      <td>854</td>\n",
       "      <td>364</td>\n",
       "      <td>474</td>\n",
       "      <td>743</td>\n",
       "    </tr>\n",
       "    <tr>\n",
       "      <th>Cardamom Seed (Ground)</th>\n",
       "      <td>844</td>\n",
       "      <td>848</td>\n",
       "      <td>457</td>\n",
       "      <td>744</td>\n",
       "    </tr>\n",
       "    <tr>\n",
       "      <th>Anise Seeds</th>\n",
       "      <td>734</td>\n",
       "      <td>457</td>\n",
       "      <td>327</td>\n",
       "      <td>235</td>\n",
       "    </tr>\n",
       "  </tbody>\n",
       "</table>\n",
       "</div>"
      ],
      "text/plain": [
       "                        Qtr1  Qtr2  Qtr3  Qtr4\n",
       "Product                                       \n",
       "Basil Leaf (Whole)      9555  5975  5595  9659\n",
       "Celery Seed (Whole)     7543  7346  3466  7474\n",
       "Catnip Leaf              854   364   474   743\n",
       "Cardamom Seed (Ground)   844   848   457   744\n",
       "Anise Seeds              734   457   327   235"
      ]
     },
     "execution_count": 7,
     "metadata": {},
     "output_type": "execute_result"
    }
   ],
   "source": [
    "east = pd.read_excel('excel/East.xlsx',index_col=[0])\n",
    "east.head(5)"
   ]
  },
  {
   "cell_type": "code",
   "execution_count": 10,
   "metadata": {},
   "outputs": [
    {
     "data": {
      "text/plain": [
       "'.xlsx'"
      ]
     },
     "execution_count": 10,
     "metadata": {},
     "output_type": "execute_result"
    }
   ],
   "source": [
    "#ใส่ชื่อไฟล์\n",
    "os.path.splitext('North.xlsx')[-1]"
   ]
  },
  {
   "cell_type": "markdown",
   "metadata": {},
   "source": [
    "## get_type()"
   ]
  },
  {
   "cell_type": "code",
   "execution_count": 11,
   "metadata": {},
   "outputs": [],
   "source": [
    "def get_type(file):\n",
    "    file_type = os.path.splitext(file)[-1]\n",
    "    return file_type"
   ]
  },
  {
   "cell_type": "markdown",
   "metadata": {},
   "source": [
    "## เปิดไฟล์ Excel และตั้งค่า Index"
   ]
  },
  {
   "cell_type": "markdown",
   "metadata": {},
   "source": [
    "นำเข้าเครื่องมือ"
   ]
  },
  {
   "cell_type": "code",
   "execution_count": 1,
   "metadata": {
    "scrolled": true
   },
   "outputs": [],
   "source": [
    "import pandas as pd"
   ]
  },
  {
   "cell_type": "markdown",
   "metadata": {},
   "source": [
    "เปิดไฟล์"
   ]
  },
  {
   "cell_type": "code",
   "execution_count": 6,
   "metadata": {
    "scrolled": true
   },
   "outputs": [
    {
     "data": {
      "text/html": [
       "<div>\n",
       "<style scoped>\n",
       "    .dataframe tbody tr th:only-of-type {\n",
       "        vertical-align: middle;\n",
       "    }\n",
       "\n",
       "    .dataframe tbody tr th {\n",
       "        vertical-align: top;\n",
       "    }\n",
       "\n",
       "    .dataframe thead th {\n",
       "        text-align: right;\n",
       "    }\n",
       "</style>\n",
       "<table border=\"1\" class=\"dataframe\">\n",
       "  <thead>\n",
       "    <tr style=\"text-align: right;\">\n",
       "      <th></th>\n",
       "      <th>Qtr1</th>\n",
       "      <th>Qtr2</th>\n",
       "      <th>Qtr3</th>\n",
       "      <th>Qtr4</th>\n",
       "    </tr>\n",
       "    <tr>\n",
       "      <th>Product</th>\n",
       "      <th></th>\n",
       "      <th></th>\n",
       "      <th></th>\n",
       "      <th></th>\n",
       "    </tr>\n",
       "  </thead>\n",
       "  <tbody>\n",
       "    <tr>\n",
       "      <th>Basil Leaf (Whole)</th>\n",
       "      <td>9555</td>\n",
       "      <td>5975</td>\n",
       "      <td>5595</td>\n",
       "      <td>9659</td>\n",
       "    </tr>\n",
       "    <tr>\n",
       "      <th>Celery Seed (Whole)</th>\n",
       "      <td>7543</td>\n",
       "      <td>7346</td>\n",
       "      <td>3466</td>\n",
       "      <td>7474</td>\n",
       "    </tr>\n",
       "    <tr>\n",
       "      <th>Catnip Leaf</th>\n",
       "      <td>854</td>\n",
       "      <td>364</td>\n",
       "      <td>474</td>\n",
       "      <td>743</td>\n",
       "    </tr>\n",
       "    <tr>\n",
       "      <th>Cardamom Seed (Ground)</th>\n",
       "      <td>844</td>\n",
       "      <td>848</td>\n",
       "      <td>457</td>\n",
       "      <td>744</td>\n",
       "    </tr>\n",
       "    <tr>\n",
       "      <th>Anise Seeds</th>\n",
       "      <td>734</td>\n",
       "      <td>457</td>\n",
       "      <td>327</td>\n",
       "      <td>235</td>\n",
       "    </tr>\n",
       "    <tr>\n",
       "      <th>Asafoetida Powder</th>\n",
       "      <td>688</td>\n",
       "      <td>468</td>\n",
       "      <td>874</td>\n",
       "      <td>568</td>\n",
       "    </tr>\n",
       "    <tr>\n",
       "      <th>Caraway Seed (Whole)</th>\n",
       "      <td>676</td>\n",
       "      <td>856</td>\n",
       "      <td>855</td>\n",
       "      <td>866</td>\n",
       "    </tr>\n",
       "    <tr>\n",
       "      <th>Bay Leaf (Whole)</th>\n",
       "      <td>667</td>\n",
       "      <td>799</td>\n",
       "      <td>750</td>\n",
       "      <td>575</td>\n",
       "    </tr>\n",
       "    <tr>\n",
       "      <th>Chamomile Flowers</th>\n",
       "      <td>553</td>\n",
       "      <td>474</td>\n",
       "      <td>632</td>\n",
       "      <td>474</td>\n",
       "    </tr>\n",
       "    <tr>\n",
       "      <th>East Special</th>\n",
       "      <td>400</td>\n",
       "      <td>751</td>\n",
       "      <td>985</td>\n",
       "      <td>1450</td>\n",
       "    </tr>\n",
       "    <tr>\n",
       "      <th>Cardamom Seed (Whole)</th>\n",
       "      <td>379</td>\n",
       "      <td>375</td>\n",
       "      <td>377</td>\n",
       "      <td>745</td>\n",
       "    </tr>\n",
       "  </tbody>\n",
       "</table>\n",
       "</div>"
      ],
      "text/plain": [
       "                        Qtr1  Qtr2  Qtr3  Qtr4\n",
       "Product                                       \n",
       "Basil Leaf (Whole)      9555  5975  5595  9659\n",
       "Celery Seed (Whole)     7543  7346  3466  7474\n",
       "Catnip Leaf              854   364   474   743\n",
       "Cardamom Seed (Ground)   844   848   457   744\n",
       "Anise Seeds              734   457   327   235\n",
       "Asafoetida Powder        688   468   874   568\n",
       "Caraway Seed (Whole)     676   856   855   866\n",
       "Bay Leaf (Whole)         667   799   750   575\n",
       "Chamomile Flowers        553   474   632   474\n",
       "East Special             400   751   985  1450\n",
       "Cardamom Seed (Whole)    379   375   377   745"
      ]
     },
     "execution_count": 6,
     "metadata": {},
     "output_type": "execute_result"
    }
   ],
   "source": [
    "east_table = pd.read_excel('excel/East.xlsx').set_index('Product')\n",
    "east_table"
   ]
  },
  {
   "cell_type": "markdown",
   "metadata": {},
   "source": [
    "## เปิดไฟล์ csv และตั้งค่า Index"
   ]
  },
  {
   "cell_type": "code",
   "execution_count": 7,
   "metadata": {
    "scrolled": true
   },
   "outputs": [
    {
     "data": {
      "text/html": [
       "<div>\n",
       "<style scoped>\n",
       "    .dataframe tbody tr th:only-of-type {\n",
       "        vertical-align: middle;\n",
       "    }\n",
       "\n",
       "    .dataframe tbody tr th {\n",
       "        vertical-align: top;\n",
       "    }\n",
       "\n",
       "    .dataframe thead th {\n",
       "        text-align: right;\n",
       "    }\n",
       "</style>\n",
       "<table border=\"1\" class=\"dataframe\">\n",
       "  <thead>\n",
       "    <tr style=\"text-align: right;\">\n",
       "      <th></th>\n",
       "      <th>Qtr1</th>\n",
       "      <th>Qtr2</th>\n",
       "      <th>Qtr3</th>\n",
       "      <th>Qtr4</th>\n",
       "    </tr>\n",
       "    <tr>\n",
       "      <th>Product</th>\n",
       "      <th></th>\n",
       "      <th></th>\n",
       "      <th></th>\n",
       "      <th></th>\n",
       "    </tr>\n",
       "  </thead>\n",
       "  <tbody>\n",
       "    <tr>\n",
       "      <th>Basil Leaf (Whole)</th>\n",
       "      <td>6778</td>\n",
       "      <td>6760</td>\n",
       "      <td>4568</td>\n",
       "      <td>7834</td>\n",
       "    </tr>\n",
       "    <tr>\n",
       "      <th>Celery Seed (Whole)</th>\n",
       "      <td>3634</td>\n",
       "      <td>6344</td>\n",
       "      <td>6423</td>\n",
       "      <td>2546</td>\n",
       "    </tr>\n",
       "    <tr>\n",
       "      <th>North Special</th>\n",
       "      <td>875</td>\n",
       "      <td>1452</td>\n",
       "      <td>254</td>\n",
       "      <td>2451</td>\n",
       "    </tr>\n",
       "    <tr>\n",
       "      <th>Catnip Leaf</th>\n",
       "      <td>854</td>\n",
       "      <td>364</td>\n",
       "      <td>474</td>\n",
       "      <td>743</td>\n",
       "    </tr>\n",
       "    <tr>\n",
       "      <th>Asafoetida Powder</th>\n",
       "      <td>654</td>\n",
       "      <td>634</td>\n",
       "      <td>326</td>\n",
       "      <td>754</td>\n",
       "    </tr>\n",
       "    <tr>\n",
       "      <th>Anise Seeds</th>\n",
       "      <td>534</td>\n",
       "      <td>423</td>\n",
       "      <td>521</td>\n",
       "      <td>625</td>\n",
       "    </tr>\n",
       "    <tr>\n",
       "      <th>Cardamom Seed (Ground)</th>\n",
       "      <td>422</td>\n",
       "      <td>642</td>\n",
       "      <td>642</td>\n",
       "      <td>624</td>\n",
       "    </tr>\n",
       "    <tr>\n",
       "      <th>Chamomile Flowers</th>\n",
       "      <td>356</td>\n",
       "      <td>634</td>\n",
       "      <td>632</td>\n",
       "      <td>743</td>\n",
       "    </tr>\n",
       "    <tr>\n",
       "      <th>Caraway Seed (Whole)</th>\n",
       "      <td>354</td>\n",
       "      <td>633</td>\n",
       "      <td>422</td>\n",
       "      <td>255</td>\n",
       "    </tr>\n",
       "    <tr>\n",
       "      <th>Cardamom Seed (Whole)</th>\n",
       "      <td>255</td>\n",
       "      <td>525</td>\n",
       "      <td>252</td>\n",
       "      <td>624</td>\n",
       "    </tr>\n",
       "    <tr>\n",
       "      <th>Bay Leaf (Whole)</th>\n",
       "      <td>233</td>\n",
       "      <td>532</td>\n",
       "      <td>525</td>\n",
       "      <td>652</td>\n",
       "    </tr>\n",
       "  </tbody>\n",
       "</table>\n",
       "</div>"
      ],
      "text/plain": [
       "                        Qtr1  Qtr2  Qtr3  Qtr4\n",
       "Product                                       \n",
       "Basil Leaf (Whole)      6778  6760  4568  7834\n",
       "Celery Seed (Whole)     3634  6344  6423  2546\n",
       "North Special            875  1452   254  2451\n",
       "Catnip Leaf              854   364   474   743\n",
       "Asafoetida Powder        654   634   326   754\n",
       "Anise Seeds              534   423   521   625\n",
       "Cardamom Seed (Ground)   422   642   642   624\n",
       "Chamomile Flowers        356   634   632   743\n",
       "Caraway Seed (Whole)     354   633   422   255\n",
       "Cardamom Seed (Whole)    255   525   252   624\n",
       "Bay Leaf (Whole)         233   532   525   652"
      ]
     },
     "execution_count": 7,
     "metadata": {},
     "output_type": "execute_result"
    }
   ],
   "source": [
    "north_table = pd.read_csv('excel/North.csv').set_index('Product')\n",
    "north_table"
   ]
  },
  {
   "cell_type": "markdown",
   "metadata": {},
   "source": [
    "## สร้างที่อยู่ไฟล์"
   ]
  },
  {
   "cell_type": "code",
   "execution_count": 14,
   "metadata": {},
   "outputs": [],
   "source": [
    "path = r'C:\\Users\\acer\\Desktop\\Bootcamp\\Class 3\\excel'"
   ]
  },
  {
   "cell_type": "code",
   "execution_count": 16,
   "metadata": {},
   "outputs": [],
   "source": [
    "file_list = get_files(path)"
   ]
  },
  {
   "cell_type": "markdown",
   "metadata": {},
   "source": [
    "## ทำงานกับทุกไฟล์"
   ]
  },
  {
   "cell_type": "markdown",
   "metadata": {},
   "source": [
    "For Loop ทำงานกับ ไฟล์ทั้งหมด"
   ]
  },
  {
   "cell_type": "code",
   "execution_count": 12,
   "metadata": {},
   "outputs": [
    {
     "name": "stdout",
     "output_type": "stream",
     "text": [
      "East.xlsx\n",
      "North.csv\n",
      "South.xlsx\n",
      "West.xlsx\n"
     ]
    }
   ],
   "source": [
    "for file in file_list:\n",
    "    print(file)"
   ]
  },
  {
   "cell_type": "markdown",
   "metadata": {},
   "source": [
    "ดูประเภทไฟล์จากไฟล์"
   ]
  },
  {
   "cell_type": "code",
   "execution_count": 18,
   "metadata": {},
   "outputs": [
    {
     "name": "stdout",
     "output_type": "stream",
     "text": [
      ".xlsx\n",
      ".csv\n",
      ".xlsx\n",
      ".xlsx\n"
     ]
    }
   ],
   "source": [
    "for file in file_list:\n",
    "    print(get_type(file))"
   ]
  },
  {
   "cell_type": "code",
   "execution_count": 24,
   "metadata": {},
   "outputs": [
    {
     "data": {
      "text/plain": [
       "['East.xlsx', 'North.csv', 'South.xlsx', 'West.xlsx']"
      ]
     },
     "execution_count": 24,
     "metadata": {},
     "output_type": "execute_result"
    }
   ],
   "source": [
    "file_list"
   ]
  },
  {
   "cell_type": "code",
   "execution_count": 25,
   "metadata": {},
   "outputs": [
    {
     "data": {
      "text/plain": [
       "[                        Qtr1  Qtr2  Qtr3  Qtr4\n",
       " Product                                       \n",
       " Basil Leaf (Whole)      9555  5975  5595  9659\n",
       " Celery Seed (Whole)     7543  7346  3466  7474\n",
       " Catnip Leaf              854   364   474   743\n",
       " Cardamom Seed (Ground)   844   848   457   744\n",
       " Anise Seeds              734   457   327   235\n",
       " Asafoetida Powder        688   468   874   568\n",
       " Caraway Seed (Whole)     676   856   855   866\n",
       " Bay Leaf (Whole)         667   799   750   575\n",
       " Chamomile Flowers        553   474   632   474\n",
       " East Special             400   751   985  1450\n",
       " Cardamom Seed (Whole)    379   375   377   745,\n",
       "                         Qtr1  Qtr2  Qtr3  Qtr4\n",
       " Product                                       \n",
       " Basil Leaf (Whole)      6778  6760  4568  7834\n",
       " Celery Seed (Whole)     3634  6344  6423  2546\n",
       " North Special            875  1452   254  2451\n",
       " Catnip Leaf              854   364   474   743\n",
       " Asafoetida Powder        654   634   326   754\n",
       " Anise Seeds              534   423   521   625\n",
       " Cardamom Seed (Ground)   422   642   642   624\n",
       " Chamomile Flowers        356   634   632   743\n",
       " Caraway Seed (Whole)     354   633   422   255\n",
       " Cardamom Seed (Whole)    255   525   252   624\n",
       " Bay Leaf (Whole)         233   532   525   652,\n",
       "                         Qtr1  Qtr2  Qtr3  Qtr4\n",
       " Product                                       \n",
       " Basil Leaf (Whole)      8566  9556  8554  7886\n",
       " Celery Seed (Whole)     8332  8372  7427  5783\n",
       " South Special           4215  1245  3562  2154\n",
       " Caraway Seed (Whole)     854   966   673   755\n",
       " Catnip Leaf              854   364   474   733\n",
       " Anise Seeds              833   733  1065  1198\n",
       " Cardamom Seed (Ground)   822   583   833   834\n",
       " Asafoetida Powder        753   844  1024  1157\n",
       " Bay Leaf (Whole)         577   855   844   734\n",
       " Chamomile Flowers        372   842   465   366\n",
       " Cardamom Seed (Whole)    357   733   753   632,\n",
       "                         Qtr1  Qtr2  Qtr3  Qtr4\n",
       " Product                                       \n",
       " Basil Leaf (Whole)      4884  6460  4761  7738\n",
       " Celery Seed (Whole)     4723  6375  6381  2321\n",
       " Catnip Leaf              885   374   448   731\n",
       " Anise Seeds              624   501   554   618\n",
       " Asafoetida Powder        579   589   329   729\n",
       " Chamomile Flowers        489   641   594   626\n",
       " West Special             457   358   658   842\n",
       " Cardamom Seed (Ground)   401   687   629   602\n",
       " Caraway Seed (Whole)     379   629   418   236\n",
       " Bay Leaf (Whole)         296   594   501   646\n",
       " Cardamom Seed (Whole)    286   566   236   618]"
      ]
     },
     "execution_count": 25,
     "metadata": {},
     "output_type": "execute_result"
    }
   ],
   "source": [
    "get_data(file_list)"
   ]
  },
  {
   "cell_type": "code",
   "execution_count": 23,
   "metadata": {},
   "outputs": [],
   "source": [
    "def get_data(file_list):\n",
    "    data_list = []\n",
    "    for file in file_list:\n",
    "        file_type = get_type(file)\n",
    "        file_path = os.path.join(path,file)\n",
    "        if file_type == '.csv':\n",
    "            data = pd.read_csv(file_path,index_col=[0])\n",
    "            data_list.append(data)\n",
    "        elif file_type == '.xlsx':\n",
    "            data = pd.read_excel(file_path,index_col=[0])\n",
    "            data_list.append(data)\n",
    "    return data_list"
   ]
  },
  {
   "cell_type": "code",
   "execution_count": 29,
   "metadata": {},
   "outputs": [],
   "source": [
    "def sum_all(data_list):\n",
    "    sum_result = pd.DataFrame()\n",
    "    for data in data_list:\n",
    "        sum_result = sum_result.add(data,fill_value=0)\n",
    "    return sum_result"
   ]
  },
  {
   "cell_type": "code",
   "execution_count": 42,
   "metadata": {},
   "outputs": [],
   "source": [
    "sum_result = sum_all(data_list)"
   ]
  },
  {
   "cell_type": "code",
   "execution_count": 43,
   "metadata": {},
   "outputs": [],
   "source": [
    "def column_sum(sum_result):\n",
    "    sum_result['Total Qtr'] = sum_result.sum(axis=1)\n",
    "    sum_result.loc['Total Product'] = sum_result.sum(axis=0)"
   ]
  },
  {
   "cell_type": "code",
   "execution_count": 44,
   "metadata": {},
   "outputs": [],
   "source": [
    "column_sum(sum_result)"
   ]
  },
  {
   "cell_type": "code",
   "execution_count": 46,
   "metadata": {},
   "outputs": [],
   "source": [
    "sum_result.to_excel('Result.xlsx')"
   ]
  },
  {
   "cell_type": "code",
   "execution_count": 21,
   "metadata": {},
   "outputs": [
    {
     "data": {
      "text/plain": [
       "[                        Qtr1  Qtr2  Qtr3  Qtr4\n",
       " Product                                       \n",
       " Basil Leaf (Whole)      9555  5975  5595  9659\n",
       " Celery Seed (Whole)     7543  7346  3466  7474\n",
       " Catnip Leaf              854   364   474   743\n",
       " Cardamom Seed (Ground)   844   848   457   744\n",
       " Anise Seeds              734   457   327   235\n",
       " Asafoetida Powder        688   468   874   568\n",
       " Caraway Seed (Whole)     676   856   855   866\n",
       " Bay Leaf (Whole)         667   799   750   575\n",
       " Chamomile Flowers        553   474   632   474\n",
       " East Special             400   751   985  1450\n",
       " Cardamom Seed (Whole)    379   375   377   745,\n",
       "                         Qtr1  Qtr2  Qtr3  Qtr4\n",
       " Product                                       \n",
       " Basil Leaf (Whole)      6778  6760  4568  7834\n",
       " Celery Seed (Whole)     3634  6344  6423  2546\n",
       " North Special            875  1452   254  2451\n",
       " Catnip Leaf              854   364   474   743\n",
       " Asafoetida Powder        654   634   326   754\n",
       " Anise Seeds              534   423   521   625\n",
       " Cardamom Seed (Ground)   422   642   642   624\n",
       " Chamomile Flowers        356   634   632   743\n",
       " Caraway Seed (Whole)     354   633   422   255\n",
       " Cardamom Seed (Whole)    255   525   252   624\n",
       " Bay Leaf (Whole)         233   532   525   652,\n",
       "                         Qtr1  Qtr2  Qtr3  Qtr4\n",
       " Product                                       \n",
       " Basil Leaf (Whole)      8566  9556  8554  7886\n",
       " Celery Seed (Whole)     8332  8372  7427  5783\n",
       " South Special           4215  1245  3562  2154\n",
       " Caraway Seed (Whole)     854   966   673   755\n",
       " Catnip Leaf              854   364   474   733\n",
       " Anise Seeds              833   733  1065  1198\n",
       " Cardamom Seed (Ground)   822   583   833   834\n",
       " Asafoetida Powder        753   844  1024  1157\n",
       " Bay Leaf (Whole)         577   855   844   734\n",
       " Chamomile Flowers        372   842   465   366\n",
       " Cardamom Seed (Whole)    357   733   753   632,\n",
       "                         Qtr1  Qtr2  Qtr3  Qtr4\n",
       " Product                                       \n",
       " Basil Leaf (Whole)      4884  6460  4761  7738\n",
       " Celery Seed (Whole)     4723  6375  6381  2321\n",
       " Catnip Leaf              885   374   448   731\n",
       " Anise Seeds              624   501   554   618\n",
       " Asafoetida Powder        579   589   329   729\n",
       " Chamomile Flowers        489   641   594   626\n",
       " West Special             457   358   658   842\n",
       " Cardamom Seed (Ground)   401   687   629   602\n",
       " Caraway Seed (Whole)     379   629   418   236\n",
       " Bay Leaf (Whole)         296   594   501   646\n",
       " Cardamom Seed (Whole)    286   566   236   618]"
      ]
     },
     "execution_count": 21,
     "metadata": {},
     "output_type": "execute_result"
    }
   ],
   "source": [
    "data_list"
   ]
  },
  {
   "cell_type": "markdown",
   "metadata": {},
   "source": [
    "สร้างที่อยู่ไฟล์"
   ]
  },
  {
   "cell_type": "code",
   "execution_count": 19,
   "metadata": {
    "scrolled": true
   },
   "outputs": [
    {
     "name": "stdout",
     "output_type": "stream",
     "text": [
      "C:\\Users\\acer\\Desktop\\Bootcamp\\Class 3\\excel\\East.xlsx\n",
      "C:\\Users\\acer\\Desktop\\Bootcamp\\Class 3\\excel\\North.csv\n",
      "C:\\Users\\acer\\Desktop\\Bootcamp\\Class 3\\excel\\South.xlsx\n",
      "C:\\Users\\acer\\Desktop\\Bootcamp\\Class 3\\excel\\West.xlsx\n"
     ]
    }
   ],
   "source": [
    "path = os.path.join(os.getcwd(),'excel')\n",
    "for file in file_list:\n",
    "    print(os.path.join(path,file))"
   ]
  },
  {
   "cell_type": "markdown",
   "metadata": {},
   "source": [
    "## เปิดไฟล์ทุกไฟล์"
   ]
  },
  {
   "cell_type": "code",
   "execution_count": 44,
   "metadata": {
    "scrolled": true
   },
   "outputs": [
    {
     "name": "stdout",
     "output_type": "stream",
     "text": [
      "                        Qtr1  Qtr2  Qtr3  Qtr4\n",
      "Product                                       \n",
      "Basil Leaf (Whole)      9555  5975  5595  9659\n",
      "Celery Seed (Whole)     7543  7346  3466  7474\n",
      "Catnip Leaf              854   364   474   743\n",
      "Cardamom Seed (Ground)   844   848   457   744\n",
      "Anise Seeds              734   457   327   235\n",
      "Asafoetida Powder        688   468   874   568\n",
      "Caraway Seed (Whole)     676   856   855   866\n",
      "Bay Leaf (Whole)         667   799   750   575\n",
      "Chamomile Flowers        553   474   632   474\n",
      "East Special             400   751   985  1450\n",
      "Cardamom Seed (Whole)    379   375   377   745\n",
      "                        Qtr1  Qtr2  Qtr3  Qtr4\n",
      "Product                                       \n",
      "Basil Leaf (Whole)      6778  6760  4568  7834\n",
      "Celery Seed (Whole)     3634  6344  6423  2546\n",
      "North Special            875  1452   254  2451\n",
      "Catnip Leaf              854   364   474   743\n",
      "Asafoetida Powder        654   634   326   754\n",
      "Anise Seeds              534   423   521   625\n",
      "Cardamom Seed (Ground)   422   642   642   624\n",
      "Chamomile Flowers        356   634   632   743\n",
      "Caraway Seed (Whole)     354   633   422   255\n",
      "Cardamom Seed (Whole)    255   525   252   624\n",
      "Bay Leaf (Whole)         233   532   525   652\n",
      "                        Qtr1  Qtr2  Qtr3  Qtr4\n",
      "Product                                       \n",
      "Basil Leaf (Whole)      8566  9556  8554  7886\n",
      "Celery Seed (Whole)     8332  8372  7427  5783\n",
      "South Special           4215  1245  3562  2154\n",
      "Caraway Seed (Whole)     854   966   673   755\n",
      "Catnip Leaf              854   364   474   733\n",
      "Anise Seeds              833   733  1065  1198\n",
      "Cardamom Seed (Ground)   822   583   833   834\n",
      "Asafoetida Powder        753   844  1024  1157\n",
      "Bay Leaf (Whole)         577   855   844   734\n",
      "Chamomile Flowers        372   842   465   366\n",
      "Cardamom Seed (Whole)    357   733   753   632\n",
      "                        Qtr1  Qtr2  Qtr3  Qtr4\n",
      "Product                                       \n",
      "Basil Leaf (Whole)      4884  6460  4761  7738\n",
      "Celery Seed (Whole)     4723  6375  6381  2321\n",
      "Catnip Leaf              885   374   448   731\n",
      "Anise Seeds              624   501   554   618\n",
      "Asafoetida Powder        579   589   329   729\n",
      "Chamomile Flowers        489   641   594   626\n",
      "West Special             457   358   658   842\n",
      "Cardamom Seed (Ground)   401   687   629   602\n",
      "Caraway Seed (Whole)     379   629   418   236\n",
      "Bay Leaf (Whole)         296   594   501   646\n",
      "Cardamom Seed (Whole)    286   566   236   618\n"
     ]
    }
   ],
   "source": [
    "path = os.path.join(os.getcwd(),'excel')\n",
    "for file in file_list:\n",
    "    file_path = os.path.join(path,file)\n",
    "    file_type = os.path.splitext(file_path)[1]\n",
    "    if file_type == '.csv':\n",
    "        print(pd.read_csv(file_path).set_index('Product'))\n",
    "    elif file_type == '.xlsx':\n",
    "        print(pd.read_excel(file_path).set_index('Product'))"
   ]
  },
  {
   "cell_type": "markdown",
   "metadata": {},
   "source": [
    "## บันทึกข้อมูลลง List"
   ]
  },
  {
   "cell_type": "markdown",
   "metadata": {},
   "source": [
    "ก่อนเปลี่ยนเป็น function ลองมาดูว่าเราใส่ข้อมูลอะไรบ้าง"
   ]
  },
  {
   "cell_type": "code",
   "execution_count": 42,
   "metadata": {
    "scrolled": true
   },
   "outputs": [],
   "source": [
    "#ใส่ที่อยู่ของไฟล์\n",
    "path = os.path.join(os.getcwd(),'excel')\n",
    "data_list = []\n",
    "#ใส่ไฟล์\n",
    "for file in file_list:\n",
    "    file_path = os.path.join(path,file)\n",
    "    file_type = os.path.splitext(file_path)[1]\n",
    "    if file_type == '.csv':\n",
    "        #ใส่ข้อมูล index\n",
    "        data = pd.read_csv(file_path).set_index('Product')\n",
    "    elif file_type == '.xlsx':\n",
    "        #ใส่ข้อมูล index\n",
    "        data = pd.read_excel(file_path).set_index('Product')\n",
    "    data_list.append(data)"
   ]
  },
  {
   "cell_type": "markdown",
   "metadata": {},
   "source": [
    "## get_data()"
   ]
  },
  {
   "cell_type": "markdown",
   "metadata": {},
   "source": [
    "การเปลี่ยนเป็นฟังก์ชัน"
   ]
  },
  {
   "cell_type": "code",
   "execution_count": 47,
   "metadata": {},
   "outputs": [],
   "source": [
    "from file_management import get_files"
   ]
  },
  {
   "cell_type": "code",
   "execution_count": 51,
   "metadata": {
    "scrolled": true
   },
   "outputs": [
    {
     "data": {
      "text/plain": [
       "[                        Qtr1  Qtr2  Qtr3  Qtr4\n",
       " Product                                       \n",
       " Basil Leaf (Whole)      9555  5975  5595  9659\n",
       " Celery Seed (Whole)     7543  7346  3466  7474\n",
       " Catnip Leaf              854   364   474   743\n",
       " Cardamom Seed (Ground)   844   848   457   744\n",
       " Anise Seeds              734   457   327   235\n",
       " Asafoetida Powder        688   468   874   568\n",
       " Caraway Seed (Whole)     676   856   855   866\n",
       " Bay Leaf (Whole)         667   799   750   575\n",
       " Chamomile Flowers        553   474   632   474\n",
       " East Special             400   751   985  1450\n",
       " Cardamom Seed (Whole)    379   375   377   745,\n",
       "                         Qtr1  Qtr2  Qtr3  Qtr4\n",
       " Product                                       \n",
       " Basil Leaf (Whole)      6778  6760  4568  7834\n",
       " Celery Seed (Whole)     3634  6344  6423  2546\n",
       " North Special            875  1452   254  2451\n",
       " Catnip Leaf              854   364   474   743\n",
       " Asafoetida Powder        654   634   326   754\n",
       " Anise Seeds              534   423   521   625\n",
       " Cardamom Seed (Ground)   422   642   642   624\n",
       " Chamomile Flowers        356   634   632   743\n",
       " Caraway Seed (Whole)     354   633   422   255\n",
       " Cardamom Seed (Whole)    255   525   252   624\n",
       " Bay Leaf (Whole)         233   532   525   652,\n",
       "                         Qtr1  Qtr2  Qtr3  Qtr4\n",
       " Product                                       \n",
       " Basil Leaf (Whole)      8566  9556  8554  7886\n",
       " Celery Seed (Whole)     8332  8372  7427  5783\n",
       " South Special           4215  1245  3562  2154\n",
       " Caraway Seed (Whole)     854   966   673   755\n",
       " Catnip Leaf              854   364   474   733\n",
       " Anise Seeds              833   733  1065  1198\n",
       " Cardamom Seed (Ground)   822   583   833   834\n",
       " Asafoetida Powder        753   844  1024  1157\n",
       " Bay Leaf (Whole)         577   855   844   734\n",
       " Chamomile Flowers        372   842   465   366\n",
       " Cardamom Seed (Whole)    357   733   753   632,\n",
       "                         Qtr1  Qtr2  Qtr3  Qtr4\n",
       " Product                                       \n",
       " Basil Leaf (Whole)      4884  6460  4761  7738\n",
       " Celery Seed (Whole)     4723  6375  6381  2321\n",
       " Catnip Leaf              885   374   448   731\n",
       " Anise Seeds              624   501   554   618\n",
       " Asafoetida Powder        579   589   329   729\n",
       " Chamomile Flowers        489   641   594   626\n",
       " West Special             457   358   658   842\n",
       " Cardamom Seed (Ground)   401   687   629   602\n",
       " Caraway Seed (Whole)     379   629   418   236\n",
       " Bay Leaf (Whole)         296   594   501   646\n",
       " Cardamom Seed (Whole)    286   566   236   618]"
      ]
     },
     "execution_count": 51,
     "metadata": {},
     "output_type": "execute_result"
    }
   ],
   "source": [
    "#ใส่ที่อยู่ของไฟล์\n",
    "target_folder = os.path.join(os.getcwd(),'excel')\n",
    "file_list = get_files(target_folder)\n",
    "\n",
    "def get_data(file_list,index):\n",
    "    data_list = []\n",
    "    #ใส่ไฟล์\n",
    "    for file in file_list:\n",
    "        file_path = os.path.join(target_folder,file)\n",
    "        file_type = os.path.splitext(file_path)[1]\n",
    "        if file_type == '.csv':\n",
    "            #ใส่ข้อมูล index\n",
    "            data = pd.read_csv(file_path).set_index(index)\n",
    "        elif file_type == '.xlsx':\n",
    "            #ใส่ข้อมูล index\n",
    "            data = pd.read_excel(file_path).set_index(index)\n",
    "        data_list.append(data)\n",
    "    return data_list\n",
    "\n",
    "data_list = get_data(file_list,'Product')\n",
    "data_list"
   ]
  },
  {
   "cell_type": "markdown",
   "metadata": {},
   "source": [
    "## นำข้อมูลทั้งหมดออกมา"
   ]
  },
  {
   "cell_type": "code",
   "execution_count": 55,
   "metadata": {
    "scrolled": true
   },
   "outputs": [
    {
     "name": "stdout",
     "output_type": "stream",
     "text": [
      "                        Qtr1  Qtr2  Qtr3  Qtr4\n",
      "Product                                       \n",
      "Basil Leaf (Whole)      9555  5975  5595  9659\n",
      "Celery Seed (Whole)     7543  7346  3466  7474\n",
      "Catnip Leaf              854   364   474   743\n",
      "Cardamom Seed (Ground)   844   848   457   744\n",
      "Anise Seeds              734   457   327   235\n",
      "Asafoetida Powder        688   468   874   568\n",
      "Caraway Seed (Whole)     676   856   855   866\n",
      "Bay Leaf (Whole)         667   799   750   575\n",
      "Chamomile Flowers        553   474   632   474\n",
      "East Special             400   751   985  1450\n",
      "Cardamom Seed (Whole)    379   375   377   745\n",
      "                        Qtr1  Qtr2  Qtr3  Qtr4\n",
      "Product                                       \n",
      "Basil Leaf (Whole)      6778  6760  4568  7834\n",
      "Celery Seed (Whole)     3634  6344  6423  2546\n",
      "North Special            875  1452   254  2451\n",
      "Catnip Leaf              854   364   474   743\n",
      "Asafoetida Powder        654   634   326   754\n",
      "Anise Seeds              534   423   521   625\n",
      "Cardamom Seed (Ground)   422   642   642   624\n",
      "Chamomile Flowers        356   634   632   743\n",
      "Caraway Seed (Whole)     354   633   422   255\n",
      "Cardamom Seed (Whole)    255   525   252   624\n",
      "Bay Leaf (Whole)         233   532   525   652\n",
      "                        Qtr1  Qtr2  Qtr3  Qtr4\n",
      "Product                                       \n",
      "Basil Leaf (Whole)      8566  9556  8554  7886\n",
      "Celery Seed (Whole)     8332  8372  7427  5783\n",
      "South Special           4215  1245  3562  2154\n",
      "Caraway Seed (Whole)     854   966   673   755\n",
      "Catnip Leaf              854   364   474   733\n",
      "Anise Seeds              833   733  1065  1198\n",
      "Cardamom Seed (Ground)   822   583   833   834\n",
      "Asafoetida Powder        753   844  1024  1157\n",
      "Bay Leaf (Whole)         577   855   844   734\n",
      "Chamomile Flowers        372   842   465   366\n",
      "Cardamom Seed (Whole)    357   733   753   632\n",
      "                        Qtr1  Qtr2  Qtr3  Qtr4\n",
      "Product                                       \n",
      "Basil Leaf (Whole)      4884  6460  4761  7738\n",
      "Celery Seed (Whole)     4723  6375  6381  2321\n",
      "Catnip Leaf              885   374   448   731\n",
      "Anise Seeds              624   501   554   618\n",
      "Asafoetida Powder        579   589   329   729\n",
      "Chamomile Flowers        489   641   594   626\n",
      "West Special             457   358   658   842\n",
      "Cardamom Seed (Ground)   401   687   629   602\n",
      "Caraway Seed (Whole)     379   629   418   236\n",
      "Bay Leaf (Whole)         296   594   501   646\n",
      "Cardamom Seed (Whole)    286   566   236   618\n"
     ]
    }
   ],
   "source": [
    "for data in data_list:\n",
    "    print(data)"
   ]
  },
  {
   "cell_type": "markdown",
   "metadata": {},
   "source": [
    "## นำข้อมูลมาบวกกัน"
   ]
  },
  {
   "cell_type": "code",
   "execution_count": 59,
   "metadata": {
    "scrolled": false
   },
   "outputs": [
    {
     "data": {
      "text/html": [
       "<div>\n",
       "<style scoped>\n",
       "    .dataframe tbody tr th:only-of-type {\n",
       "        vertical-align: middle;\n",
       "    }\n",
       "\n",
       "    .dataframe tbody tr th {\n",
       "        vertical-align: top;\n",
       "    }\n",
       "\n",
       "    .dataframe thead th {\n",
       "        text-align: right;\n",
       "    }\n",
       "</style>\n",
       "<table border=\"1\" class=\"dataframe\">\n",
       "  <thead>\n",
       "    <tr style=\"text-align: right;\">\n",
       "      <th></th>\n",
       "      <th>Qtr1</th>\n",
       "      <th>Qtr2</th>\n",
       "      <th>Qtr3</th>\n",
       "      <th>Qtr4</th>\n",
       "    </tr>\n",
       "    <tr>\n",
       "      <th>Product</th>\n",
       "      <th></th>\n",
       "      <th></th>\n",
       "      <th></th>\n",
       "      <th></th>\n",
       "    </tr>\n",
       "  </thead>\n",
       "  <tbody>\n",
       "    <tr>\n",
       "      <th>Basil Leaf (Whole)</th>\n",
       "      <td>9555.0</td>\n",
       "      <td>5975.0</td>\n",
       "      <td>5595.0</td>\n",
       "      <td>9659.0</td>\n",
       "    </tr>\n",
       "    <tr>\n",
       "      <th>Celery Seed (Whole)</th>\n",
       "      <td>7543.0</td>\n",
       "      <td>7346.0</td>\n",
       "      <td>3466.0</td>\n",
       "      <td>7474.0</td>\n",
       "    </tr>\n",
       "    <tr>\n",
       "      <th>Catnip Leaf</th>\n",
       "      <td>854.0</td>\n",
       "      <td>364.0</td>\n",
       "      <td>474.0</td>\n",
       "      <td>743.0</td>\n",
       "    </tr>\n",
       "    <tr>\n",
       "      <th>Cardamom Seed (Ground)</th>\n",
       "      <td>844.0</td>\n",
       "      <td>848.0</td>\n",
       "      <td>457.0</td>\n",
       "      <td>744.0</td>\n",
       "    </tr>\n",
       "    <tr>\n",
       "      <th>Anise Seeds</th>\n",
       "      <td>734.0</td>\n",
       "      <td>457.0</td>\n",
       "      <td>327.0</td>\n",
       "      <td>235.0</td>\n",
       "    </tr>\n",
       "    <tr>\n",
       "      <th>Asafoetida Powder</th>\n",
       "      <td>688.0</td>\n",
       "      <td>468.0</td>\n",
       "      <td>874.0</td>\n",
       "      <td>568.0</td>\n",
       "    </tr>\n",
       "    <tr>\n",
       "      <th>Caraway Seed (Whole)</th>\n",
       "      <td>676.0</td>\n",
       "      <td>856.0</td>\n",
       "      <td>855.0</td>\n",
       "      <td>866.0</td>\n",
       "    </tr>\n",
       "    <tr>\n",
       "      <th>Bay Leaf (Whole)</th>\n",
       "      <td>667.0</td>\n",
       "      <td>799.0</td>\n",
       "      <td>750.0</td>\n",
       "      <td>575.0</td>\n",
       "    </tr>\n",
       "    <tr>\n",
       "      <th>Chamomile Flowers</th>\n",
       "      <td>553.0</td>\n",
       "      <td>474.0</td>\n",
       "      <td>632.0</td>\n",
       "      <td>474.0</td>\n",
       "    </tr>\n",
       "    <tr>\n",
       "      <th>East Special</th>\n",
       "      <td>400.0</td>\n",
       "      <td>751.0</td>\n",
       "      <td>985.0</td>\n",
       "      <td>1450.0</td>\n",
       "    </tr>\n",
       "    <tr>\n",
       "      <th>Cardamom Seed (Whole)</th>\n",
       "      <td>379.0</td>\n",
       "      <td>375.0</td>\n",
       "      <td>377.0</td>\n",
       "      <td>745.0</td>\n",
       "    </tr>\n",
       "  </tbody>\n",
       "</table>\n",
       "</div>"
      ],
      "text/plain": [
       "                          Qtr1    Qtr2    Qtr3    Qtr4\n",
       "Product                                               \n",
       "Basil Leaf (Whole)      9555.0  5975.0  5595.0  9659.0\n",
       "Celery Seed (Whole)     7543.0  7346.0  3466.0  7474.0\n",
       "Catnip Leaf              854.0   364.0   474.0   743.0\n",
       "Cardamom Seed (Ground)   844.0   848.0   457.0   744.0\n",
       "Anise Seeds              734.0   457.0   327.0   235.0\n",
       "Asafoetida Powder        688.0   468.0   874.0   568.0\n",
       "Caraway Seed (Whole)     676.0   856.0   855.0   866.0\n",
       "Bay Leaf (Whole)         667.0   799.0   750.0   575.0\n",
       "Chamomile Flowers        553.0   474.0   632.0   474.0\n",
       "East Special             400.0   751.0   985.0  1450.0\n",
       "Cardamom Seed (Whole)    379.0   375.0   377.0   745.0"
      ]
     },
     "execution_count": 59,
     "metadata": {},
     "output_type": "execute_result"
    }
   ],
   "source": [
    "sum_result = pd.DataFrame()\n",
    "sum_result = sum_result.add(data_list[0],fill_value=0)\n",
    "sum_result"
   ]
  },
  {
   "cell_type": "markdown",
   "metadata": {},
   "source": [
    "## บวกกันทุกข้อมูล"
   ]
  },
  {
   "cell_type": "markdown",
   "metadata": {},
   "source": [
    "ก่อนเปลี่ยนเป็น function ลองมาดูว่าเราใส่ข้อมูลอะไรบ้าง"
   ]
  },
  {
   "cell_type": "code",
   "execution_count": 61,
   "metadata": {
    "scrolled": true
   },
   "outputs": [
    {
     "data": {
      "text/html": [
       "<div>\n",
       "<style scoped>\n",
       "    .dataframe tbody tr th:only-of-type {\n",
       "        vertical-align: middle;\n",
       "    }\n",
       "\n",
       "    .dataframe tbody tr th {\n",
       "        vertical-align: top;\n",
       "    }\n",
       "\n",
       "    .dataframe thead th {\n",
       "        text-align: right;\n",
       "    }\n",
       "</style>\n",
       "<table border=\"1\" class=\"dataframe\">\n",
       "  <thead>\n",
       "    <tr style=\"text-align: right;\">\n",
       "      <th></th>\n",
       "      <th>Qtr1</th>\n",
       "      <th>Qtr2</th>\n",
       "      <th>Qtr3</th>\n",
       "      <th>Qtr4</th>\n",
       "    </tr>\n",
       "    <tr>\n",
       "      <th>Product</th>\n",
       "      <th></th>\n",
       "      <th></th>\n",
       "      <th></th>\n",
       "      <th></th>\n",
       "    </tr>\n",
       "  </thead>\n",
       "  <tbody>\n",
       "    <tr>\n",
       "      <th>Anise Seeds</th>\n",
       "      <td>2725.0</td>\n",
       "      <td>2114.0</td>\n",
       "      <td>2467.0</td>\n",
       "      <td>2676.0</td>\n",
       "    </tr>\n",
       "    <tr>\n",
       "      <th>Asafoetida Powder</th>\n",
       "      <td>2674.0</td>\n",
       "      <td>2535.0</td>\n",
       "      <td>2553.0</td>\n",
       "      <td>3208.0</td>\n",
       "    </tr>\n",
       "    <tr>\n",
       "      <th>Basil Leaf (Whole)</th>\n",
       "      <td>29783.0</td>\n",
       "      <td>28751.0</td>\n",
       "      <td>23478.0</td>\n",
       "      <td>33117.0</td>\n",
       "    </tr>\n",
       "    <tr>\n",
       "      <th>Bay Leaf (Whole)</th>\n",
       "      <td>1773.0</td>\n",
       "      <td>2780.0</td>\n",
       "      <td>2620.0</td>\n",
       "      <td>2607.0</td>\n",
       "    </tr>\n",
       "    <tr>\n",
       "      <th>Caraway Seed (Whole)</th>\n",
       "      <td>2263.0</td>\n",
       "      <td>3084.0</td>\n",
       "      <td>2368.0</td>\n",
       "      <td>2112.0</td>\n",
       "    </tr>\n",
       "    <tr>\n",
       "      <th>Cardamom Seed (Ground)</th>\n",
       "      <td>2489.0</td>\n",
       "      <td>2760.0</td>\n",
       "      <td>2561.0</td>\n",
       "      <td>2804.0</td>\n",
       "    </tr>\n",
       "    <tr>\n",
       "      <th>Cardamom Seed (Whole)</th>\n",
       "      <td>1277.0</td>\n",
       "      <td>2199.0</td>\n",
       "      <td>1618.0</td>\n",
       "      <td>2619.0</td>\n",
       "    </tr>\n",
       "    <tr>\n",
       "      <th>Catnip Leaf</th>\n",
       "      <td>3447.0</td>\n",
       "      <td>1466.0</td>\n",
       "      <td>1870.0</td>\n",
       "      <td>2950.0</td>\n",
       "    </tr>\n",
       "    <tr>\n",
       "      <th>Celery Seed (Whole)</th>\n",
       "      <td>24232.0</td>\n",
       "      <td>28437.0</td>\n",
       "      <td>23697.0</td>\n",
       "      <td>18124.0</td>\n",
       "    </tr>\n",
       "    <tr>\n",
       "      <th>Chamomile Flowers</th>\n",
       "      <td>1770.0</td>\n",
       "      <td>2591.0</td>\n",
       "      <td>2323.0</td>\n",
       "      <td>2209.0</td>\n",
       "    </tr>\n",
       "    <tr>\n",
       "      <th>East Special</th>\n",
       "      <td>400.0</td>\n",
       "      <td>751.0</td>\n",
       "      <td>985.0</td>\n",
       "      <td>1450.0</td>\n",
       "    </tr>\n",
       "    <tr>\n",
       "      <th>North Special</th>\n",
       "      <td>875.0</td>\n",
       "      <td>1452.0</td>\n",
       "      <td>254.0</td>\n",
       "      <td>2451.0</td>\n",
       "    </tr>\n",
       "    <tr>\n",
       "      <th>South Special</th>\n",
       "      <td>4215.0</td>\n",
       "      <td>1245.0</td>\n",
       "      <td>3562.0</td>\n",
       "      <td>2154.0</td>\n",
       "    </tr>\n",
       "    <tr>\n",
       "      <th>West Special</th>\n",
       "      <td>457.0</td>\n",
       "      <td>358.0</td>\n",
       "      <td>658.0</td>\n",
       "      <td>842.0</td>\n",
       "    </tr>\n",
       "  </tbody>\n",
       "</table>\n",
       "</div>"
      ],
      "text/plain": [
       "                           Qtr1     Qtr2     Qtr3     Qtr4\n",
       "Product                                                   \n",
       "Anise Seeds              2725.0   2114.0   2467.0   2676.0\n",
       "Asafoetida Powder        2674.0   2535.0   2553.0   3208.0\n",
       "Basil Leaf (Whole)      29783.0  28751.0  23478.0  33117.0\n",
       "Bay Leaf (Whole)         1773.0   2780.0   2620.0   2607.0\n",
       "Caraway Seed (Whole)     2263.0   3084.0   2368.0   2112.0\n",
       "Cardamom Seed (Ground)   2489.0   2760.0   2561.0   2804.0\n",
       "Cardamom Seed (Whole)    1277.0   2199.0   1618.0   2619.0\n",
       "Catnip Leaf              3447.0   1466.0   1870.0   2950.0\n",
       "Celery Seed (Whole)     24232.0  28437.0  23697.0  18124.0\n",
       "Chamomile Flowers        1770.0   2591.0   2323.0   2209.0\n",
       "East Special              400.0    751.0    985.0   1450.0\n",
       "North Special             875.0   1452.0    254.0   2451.0\n",
       "South Special            4215.0   1245.0   3562.0   2154.0\n",
       "West Special              457.0    358.0    658.0    842.0"
      ]
     },
     "execution_count": 61,
     "metadata": {},
     "output_type": "execute_result"
    }
   ],
   "source": [
    "sum_result = pd.DataFrame()\n",
    "#ใส่ข้อมูลทั้งหมด\n",
    "for data in data_list:\n",
    "    sum_result = sum_result.add(data,fill_value=0)\n",
    "sum_result"
   ]
  },
  {
   "cell_type": "markdown",
   "metadata": {},
   "source": [
    "## sum_all()"
   ]
  },
  {
   "cell_type": "code",
   "execution_count": 63,
   "metadata": {
    "scrolled": true
   },
   "outputs": [
    {
     "data": {
      "text/html": [
       "<div>\n",
       "<style scoped>\n",
       "    .dataframe tbody tr th:only-of-type {\n",
       "        vertical-align: middle;\n",
       "    }\n",
       "\n",
       "    .dataframe tbody tr th {\n",
       "        vertical-align: top;\n",
       "    }\n",
       "\n",
       "    .dataframe thead th {\n",
       "        text-align: right;\n",
       "    }\n",
       "</style>\n",
       "<table border=\"1\" class=\"dataframe\">\n",
       "  <thead>\n",
       "    <tr style=\"text-align: right;\">\n",
       "      <th></th>\n",
       "      <th>Qtr1</th>\n",
       "      <th>Qtr2</th>\n",
       "      <th>Qtr3</th>\n",
       "      <th>Qtr4</th>\n",
       "    </tr>\n",
       "    <tr>\n",
       "      <th>Product</th>\n",
       "      <th></th>\n",
       "      <th></th>\n",
       "      <th></th>\n",
       "      <th></th>\n",
       "    </tr>\n",
       "  </thead>\n",
       "  <tbody>\n",
       "    <tr>\n",
       "      <th>Anise Seeds</th>\n",
       "      <td>2725.0</td>\n",
       "      <td>2114.0</td>\n",
       "      <td>2467.0</td>\n",
       "      <td>2676.0</td>\n",
       "    </tr>\n",
       "    <tr>\n",
       "      <th>Asafoetida Powder</th>\n",
       "      <td>2674.0</td>\n",
       "      <td>2535.0</td>\n",
       "      <td>2553.0</td>\n",
       "      <td>3208.0</td>\n",
       "    </tr>\n",
       "    <tr>\n",
       "      <th>Basil Leaf (Whole)</th>\n",
       "      <td>29783.0</td>\n",
       "      <td>28751.0</td>\n",
       "      <td>23478.0</td>\n",
       "      <td>33117.0</td>\n",
       "    </tr>\n",
       "    <tr>\n",
       "      <th>Bay Leaf (Whole)</th>\n",
       "      <td>1773.0</td>\n",
       "      <td>2780.0</td>\n",
       "      <td>2620.0</td>\n",
       "      <td>2607.0</td>\n",
       "    </tr>\n",
       "    <tr>\n",
       "      <th>Caraway Seed (Whole)</th>\n",
       "      <td>2263.0</td>\n",
       "      <td>3084.0</td>\n",
       "      <td>2368.0</td>\n",
       "      <td>2112.0</td>\n",
       "    </tr>\n",
       "    <tr>\n",
       "      <th>Cardamom Seed (Ground)</th>\n",
       "      <td>2489.0</td>\n",
       "      <td>2760.0</td>\n",
       "      <td>2561.0</td>\n",
       "      <td>2804.0</td>\n",
       "    </tr>\n",
       "    <tr>\n",
       "      <th>Cardamom Seed (Whole)</th>\n",
       "      <td>1277.0</td>\n",
       "      <td>2199.0</td>\n",
       "      <td>1618.0</td>\n",
       "      <td>2619.0</td>\n",
       "    </tr>\n",
       "    <tr>\n",
       "      <th>Catnip Leaf</th>\n",
       "      <td>3447.0</td>\n",
       "      <td>1466.0</td>\n",
       "      <td>1870.0</td>\n",
       "      <td>2950.0</td>\n",
       "    </tr>\n",
       "    <tr>\n",
       "      <th>Celery Seed (Whole)</th>\n",
       "      <td>24232.0</td>\n",
       "      <td>28437.0</td>\n",
       "      <td>23697.0</td>\n",
       "      <td>18124.0</td>\n",
       "    </tr>\n",
       "    <tr>\n",
       "      <th>Chamomile Flowers</th>\n",
       "      <td>1770.0</td>\n",
       "      <td>2591.0</td>\n",
       "      <td>2323.0</td>\n",
       "      <td>2209.0</td>\n",
       "    </tr>\n",
       "    <tr>\n",
       "      <th>East Special</th>\n",
       "      <td>400.0</td>\n",
       "      <td>751.0</td>\n",
       "      <td>985.0</td>\n",
       "      <td>1450.0</td>\n",
       "    </tr>\n",
       "    <tr>\n",
       "      <th>North Special</th>\n",
       "      <td>875.0</td>\n",
       "      <td>1452.0</td>\n",
       "      <td>254.0</td>\n",
       "      <td>2451.0</td>\n",
       "    </tr>\n",
       "    <tr>\n",
       "      <th>South Special</th>\n",
       "      <td>4215.0</td>\n",
       "      <td>1245.0</td>\n",
       "      <td>3562.0</td>\n",
       "      <td>2154.0</td>\n",
       "    </tr>\n",
       "    <tr>\n",
       "      <th>West Special</th>\n",
       "      <td>457.0</td>\n",
       "      <td>358.0</td>\n",
       "      <td>658.0</td>\n",
       "      <td>842.0</td>\n",
       "    </tr>\n",
       "  </tbody>\n",
       "</table>\n",
       "</div>"
      ],
      "text/plain": [
       "                           Qtr1     Qtr2     Qtr3     Qtr4\n",
       "Product                                                   \n",
       "Anise Seeds              2725.0   2114.0   2467.0   2676.0\n",
       "Asafoetida Powder        2674.0   2535.0   2553.0   3208.0\n",
       "Basil Leaf (Whole)      29783.0  28751.0  23478.0  33117.0\n",
       "Bay Leaf (Whole)         1773.0   2780.0   2620.0   2607.0\n",
       "Caraway Seed (Whole)     2263.0   3084.0   2368.0   2112.0\n",
       "Cardamom Seed (Ground)   2489.0   2760.0   2561.0   2804.0\n",
       "Cardamom Seed (Whole)    1277.0   2199.0   1618.0   2619.0\n",
       "Catnip Leaf              3447.0   1466.0   1870.0   2950.0\n",
       "Celery Seed (Whole)     24232.0  28437.0  23697.0  18124.0\n",
       "Chamomile Flowers        1770.0   2591.0   2323.0   2209.0\n",
       "East Special              400.0    751.0    985.0   1450.0\n",
       "North Special             875.0   1452.0    254.0   2451.0\n",
       "South Special            4215.0   1245.0   3562.0   2154.0\n",
       "West Special              457.0    358.0    658.0    842.0"
      ]
     },
     "execution_count": 63,
     "metadata": {},
     "output_type": "execute_result"
    }
   ],
   "source": [
    "def sum_all(data_list):\n",
    "    sum_result = pd.DataFrame()\n",
    "    #ใส่ข้อมูลทั้งหมด\n",
    "    for data in data_list:\n",
    "        sum_result = sum_result.add(data,fill_value=0)\n",
    "    return sum_result\n",
    "\n",
    "sum_result = sum_all(data_list)\n",
    "sum_result"
   ]
  },
  {
   "cell_type": "markdown",
   "metadata": {},
   "source": [
    "## สร้างผลรวม"
   ]
  },
  {
   "cell_type": "code",
   "execution_count": null,
   "metadata": {},
   "outputs": [],
   "source": [
    "#ใส่ข้อมูล sum_result\n",
    "sum_result['Total Qtr'] = sum_result.sum(axis=1)\n",
    "sum_result.loc['Total Product'] = sum_result.sum(axis=0)"
   ]
  },
  {
   "cell_type": "markdown",
   "metadata": {},
   "source": [
    "## Precondition"
   ]
  },
  {
   "cell_type": "markdown",
   "metadata": {},
   "source": [
    "ข้อควรระวังสำหรับการทำงานกับ function โดยเฉพาะตัวที่เปลี่ยนแปลงข้อมูล คือ ข้อมูลเริ่มต้นไม่เหมือนกัน"
   ]
  },
  {
   "cell_type": "code",
   "execution_count": 66,
   "metadata": {
    "scrolled": true
   },
   "outputs": [
    {
     "data": {
      "text/html": [
       "<div>\n",
       "<style scoped>\n",
       "    .dataframe tbody tr th:only-of-type {\n",
       "        vertical-align: middle;\n",
       "    }\n",
       "\n",
       "    .dataframe tbody tr th {\n",
       "        vertical-align: top;\n",
       "    }\n",
       "\n",
       "    .dataframe thead th {\n",
       "        text-align: right;\n",
       "    }\n",
       "</style>\n",
       "<table border=\"1\" class=\"dataframe\">\n",
       "  <thead>\n",
       "    <tr style=\"text-align: right;\">\n",
       "      <th></th>\n",
       "      <th>Qtr1</th>\n",
       "      <th>Qtr2</th>\n",
       "      <th>Qtr3</th>\n",
       "      <th>Qtr4</th>\n",
       "      <th>Total Qtr</th>\n",
       "    </tr>\n",
       "    <tr>\n",
       "      <th>Product</th>\n",
       "      <th></th>\n",
       "      <th></th>\n",
       "      <th></th>\n",
       "      <th></th>\n",
       "      <th></th>\n",
       "    </tr>\n",
       "  </thead>\n",
       "  <tbody>\n",
       "    <tr>\n",
       "      <th>Anise Seeds</th>\n",
       "      <td>2725.0</td>\n",
       "      <td>2114.0</td>\n",
       "      <td>2467.0</td>\n",
       "      <td>2676.0</td>\n",
       "      <td>9982.0</td>\n",
       "    </tr>\n",
       "    <tr>\n",
       "      <th>Asafoetida Powder</th>\n",
       "      <td>2674.0</td>\n",
       "      <td>2535.0</td>\n",
       "      <td>2553.0</td>\n",
       "      <td>3208.0</td>\n",
       "      <td>10970.0</td>\n",
       "    </tr>\n",
       "    <tr>\n",
       "      <th>Basil Leaf (Whole)</th>\n",
       "      <td>29783.0</td>\n",
       "      <td>28751.0</td>\n",
       "      <td>23478.0</td>\n",
       "      <td>33117.0</td>\n",
       "      <td>115129.0</td>\n",
       "    </tr>\n",
       "    <tr>\n",
       "      <th>Bay Leaf (Whole)</th>\n",
       "      <td>1773.0</td>\n",
       "      <td>2780.0</td>\n",
       "      <td>2620.0</td>\n",
       "      <td>2607.0</td>\n",
       "      <td>9780.0</td>\n",
       "    </tr>\n",
       "    <tr>\n",
       "      <th>Caraway Seed (Whole)</th>\n",
       "      <td>2263.0</td>\n",
       "      <td>3084.0</td>\n",
       "      <td>2368.0</td>\n",
       "      <td>2112.0</td>\n",
       "      <td>9827.0</td>\n",
       "    </tr>\n",
       "    <tr>\n",
       "      <th>Cardamom Seed (Ground)</th>\n",
       "      <td>2489.0</td>\n",
       "      <td>2760.0</td>\n",
       "      <td>2561.0</td>\n",
       "      <td>2804.0</td>\n",
       "      <td>10614.0</td>\n",
       "    </tr>\n",
       "    <tr>\n",
       "      <th>Cardamom Seed (Whole)</th>\n",
       "      <td>1277.0</td>\n",
       "      <td>2199.0</td>\n",
       "      <td>1618.0</td>\n",
       "      <td>2619.0</td>\n",
       "      <td>7713.0</td>\n",
       "    </tr>\n",
       "    <tr>\n",
       "      <th>Catnip Leaf</th>\n",
       "      <td>3447.0</td>\n",
       "      <td>1466.0</td>\n",
       "      <td>1870.0</td>\n",
       "      <td>2950.0</td>\n",
       "      <td>9733.0</td>\n",
       "    </tr>\n",
       "    <tr>\n",
       "      <th>Celery Seed (Whole)</th>\n",
       "      <td>24232.0</td>\n",
       "      <td>28437.0</td>\n",
       "      <td>23697.0</td>\n",
       "      <td>18124.0</td>\n",
       "      <td>94490.0</td>\n",
       "    </tr>\n",
       "    <tr>\n",
       "      <th>Chamomile Flowers</th>\n",
       "      <td>1770.0</td>\n",
       "      <td>2591.0</td>\n",
       "      <td>2323.0</td>\n",
       "      <td>2209.0</td>\n",
       "      <td>8893.0</td>\n",
       "    </tr>\n",
       "    <tr>\n",
       "      <th>East Special</th>\n",
       "      <td>400.0</td>\n",
       "      <td>751.0</td>\n",
       "      <td>985.0</td>\n",
       "      <td>1450.0</td>\n",
       "      <td>3586.0</td>\n",
       "    </tr>\n",
       "    <tr>\n",
       "      <th>North Special</th>\n",
       "      <td>875.0</td>\n",
       "      <td>1452.0</td>\n",
       "      <td>254.0</td>\n",
       "      <td>2451.0</td>\n",
       "      <td>5032.0</td>\n",
       "    </tr>\n",
       "    <tr>\n",
       "      <th>South Special</th>\n",
       "      <td>4215.0</td>\n",
       "      <td>1245.0</td>\n",
       "      <td>3562.0</td>\n",
       "      <td>2154.0</td>\n",
       "      <td>11176.0</td>\n",
       "    </tr>\n",
       "    <tr>\n",
       "      <th>West Special</th>\n",
       "      <td>457.0</td>\n",
       "      <td>358.0</td>\n",
       "      <td>658.0</td>\n",
       "      <td>842.0</td>\n",
       "      <td>2315.0</td>\n",
       "    </tr>\n",
       "    <tr>\n",
       "      <th>Total Product</th>\n",
       "      <td>78380.0</td>\n",
       "      <td>80523.0</td>\n",
       "      <td>71014.0</td>\n",
       "      <td>79323.0</td>\n",
       "      <td>309240.0</td>\n",
       "    </tr>\n",
       "  </tbody>\n",
       "</table>\n",
       "</div>"
      ],
      "text/plain": [
       "                           Qtr1     Qtr2     Qtr3     Qtr4  Total Qtr\n",
       "Product                                                              \n",
       "Anise Seeds              2725.0   2114.0   2467.0   2676.0     9982.0\n",
       "Asafoetida Powder        2674.0   2535.0   2553.0   3208.0    10970.0\n",
       "Basil Leaf (Whole)      29783.0  28751.0  23478.0  33117.0   115129.0\n",
       "Bay Leaf (Whole)         1773.0   2780.0   2620.0   2607.0     9780.0\n",
       "Caraway Seed (Whole)     2263.0   3084.0   2368.0   2112.0     9827.0\n",
       "Cardamom Seed (Ground)   2489.0   2760.0   2561.0   2804.0    10614.0\n",
       "Cardamom Seed (Whole)    1277.0   2199.0   1618.0   2619.0     7713.0\n",
       "Catnip Leaf              3447.0   1466.0   1870.0   2950.0     9733.0\n",
       "Celery Seed (Whole)     24232.0  28437.0  23697.0  18124.0    94490.0\n",
       "Chamomile Flowers        1770.0   2591.0   2323.0   2209.0     8893.0\n",
       "East Special              400.0    751.0    985.0   1450.0     3586.0\n",
       "North Special             875.0   1452.0    254.0   2451.0     5032.0\n",
       "South Special            4215.0   1245.0   3562.0   2154.0    11176.0\n",
       "West Special              457.0    358.0    658.0    842.0     2315.0\n",
       "Total Product           78380.0  80523.0  71014.0  79323.0   309240.0"
      ]
     },
     "execution_count": 66,
     "metadata": {},
     "output_type": "execute_result"
    }
   ],
   "source": [
    "sum_result"
   ]
  },
  {
   "cell_type": "markdown",
   "metadata": {},
   "source": [
    "## column_sum()"
   ]
  },
  {
   "cell_type": "code",
   "execution_count": 64,
   "metadata": {},
   "outputs": [],
   "source": [
    "def column_sum(sum_result):\n",
    "    sum_result['Total Qtr'] = sum_result.sum(axis=1)\n",
    "    sum_result.loc['Total Product'] = sum_result.sum(axis=0)\n",
    "    \n",
    "column_sum(sum_result)\n",
    "sum_result"
   ]
  },
  {
   "cell_type": "code",
   "execution_count": 65,
   "metadata": {
    "scrolled": false
   },
   "outputs": [
    {
     "data": {
      "text/html": [
       "<div>\n",
       "<style scoped>\n",
       "    .dataframe tbody tr th:only-of-type {\n",
       "        vertical-align: middle;\n",
       "    }\n",
       "\n",
       "    .dataframe tbody tr th {\n",
       "        vertical-align: top;\n",
       "    }\n",
       "\n",
       "    .dataframe thead th {\n",
       "        text-align: right;\n",
       "    }\n",
       "</style>\n",
       "<table border=\"1\" class=\"dataframe\">\n",
       "  <thead>\n",
       "    <tr style=\"text-align: right;\">\n",
       "      <th></th>\n",
       "      <th>Qtr1</th>\n",
       "      <th>Qtr2</th>\n",
       "      <th>Qtr3</th>\n",
       "      <th>Qtr4</th>\n",
       "      <th>Total Qtr</th>\n",
       "    </tr>\n",
       "    <tr>\n",
       "      <th>Product</th>\n",
       "      <th></th>\n",
       "      <th></th>\n",
       "      <th></th>\n",
       "      <th></th>\n",
       "      <th></th>\n",
       "    </tr>\n",
       "  </thead>\n",
       "  <tbody>\n",
       "    <tr>\n",
       "      <th>Anise Seeds</th>\n",
       "      <td>2725.0</td>\n",
       "      <td>2114.0</td>\n",
       "      <td>2467.0</td>\n",
       "      <td>2676.0</td>\n",
       "      <td>9982.0</td>\n",
       "    </tr>\n",
       "    <tr>\n",
       "      <th>Asafoetida Powder</th>\n",
       "      <td>2674.0</td>\n",
       "      <td>2535.0</td>\n",
       "      <td>2553.0</td>\n",
       "      <td>3208.0</td>\n",
       "      <td>10970.0</td>\n",
       "    </tr>\n",
       "    <tr>\n",
       "      <th>Basil Leaf (Whole)</th>\n",
       "      <td>29783.0</td>\n",
       "      <td>28751.0</td>\n",
       "      <td>23478.0</td>\n",
       "      <td>33117.0</td>\n",
       "      <td>115129.0</td>\n",
       "    </tr>\n",
       "    <tr>\n",
       "      <th>Bay Leaf (Whole)</th>\n",
       "      <td>1773.0</td>\n",
       "      <td>2780.0</td>\n",
       "      <td>2620.0</td>\n",
       "      <td>2607.0</td>\n",
       "      <td>9780.0</td>\n",
       "    </tr>\n",
       "    <tr>\n",
       "      <th>Caraway Seed (Whole)</th>\n",
       "      <td>2263.0</td>\n",
       "      <td>3084.0</td>\n",
       "      <td>2368.0</td>\n",
       "      <td>2112.0</td>\n",
       "      <td>9827.0</td>\n",
       "    </tr>\n",
       "    <tr>\n",
       "      <th>Cardamom Seed (Ground)</th>\n",
       "      <td>2489.0</td>\n",
       "      <td>2760.0</td>\n",
       "      <td>2561.0</td>\n",
       "      <td>2804.0</td>\n",
       "      <td>10614.0</td>\n",
       "    </tr>\n",
       "    <tr>\n",
       "      <th>Cardamom Seed (Whole)</th>\n",
       "      <td>1277.0</td>\n",
       "      <td>2199.0</td>\n",
       "      <td>1618.0</td>\n",
       "      <td>2619.0</td>\n",
       "      <td>7713.0</td>\n",
       "    </tr>\n",
       "    <tr>\n",
       "      <th>Catnip Leaf</th>\n",
       "      <td>3447.0</td>\n",
       "      <td>1466.0</td>\n",
       "      <td>1870.0</td>\n",
       "      <td>2950.0</td>\n",
       "      <td>9733.0</td>\n",
       "    </tr>\n",
       "    <tr>\n",
       "      <th>Celery Seed (Whole)</th>\n",
       "      <td>24232.0</td>\n",
       "      <td>28437.0</td>\n",
       "      <td>23697.0</td>\n",
       "      <td>18124.0</td>\n",
       "      <td>94490.0</td>\n",
       "    </tr>\n",
       "    <tr>\n",
       "      <th>Chamomile Flowers</th>\n",
       "      <td>1770.0</td>\n",
       "      <td>2591.0</td>\n",
       "      <td>2323.0</td>\n",
       "      <td>2209.0</td>\n",
       "      <td>8893.0</td>\n",
       "    </tr>\n",
       "    <tr>\n",
       "      <th>East Special</th>\n",
       "      <td>400.0</td>\n",
       "      <td>751.0</td>\n",
       "      <td>985.0</td>\n",
       "      <td>1450.0</td>\n",
       "      <td>3586.0</td>\n",
       "    </tr>\n",
       "    <tr>\n",
       "      <th>North Special</th>\n",
       "      <td>875.0</td>\n",
       "      <td>1452.0</td>\n",
       "      <td>254.0</td>\n",
       "      <td>2451.0</td>\n",
       "      <td>5032.0</td>\n",
       "    </tr>\n",
       "    <tr>\n",
       "      <th>South Special</th>\n",
       "      <td>4215.0</td>\n",
       "      <td>1245.0</td>\n",
       "      <td>3562.0</td>\n",
       "      <td>2154.0</td>\n",
       "      <td>11176.0</td>\n",
       "    </tr>\n",
       "    <tr>\n",
       "      <th>West Special</th>\n",
       "      <td>457.0</td>\n",
       "      <td>358.0</td>\n",
       "      <td>658.0</td>\n",
       "      <td>842.0</td>\n",
       "      <td>2315.0</td>\n",
       "    </tr>\n",
       "    <tr>\n",
       "      <th>Total Product</th>\n",
       "      <td>78380.0</td>\n",
       "      <td>80523.0</td>\n",
       "      <td>71014.0</td>\n",
       "      <td>79323.0</td>\n",
       "      <td>309240.0</td>\n",
       "    </tr>\n",
       "  </tbody>\n",
       "</table>\n",
       "</div>"
      ],
      "text/plain": [
       "                           Qtr1     Qtr2     Qtr3     Qtr4  Total Qtr\n",
       "Product                                                              \n",
       "Anise Seeds              2725.0   2114.0   2467.0   2676.0     9982.0\n",
       "Asafoetida Powder        2674.0   2535.0   2553.0   3208.0    10970.0\n",
       "Basil Leaf (Whole)      29783.0  28751.0  23478.0  33117.0   115129.0\n",
       "Bay Leaf (Whole)         1773.0   2780.0   2620.0   2607.0     9780.0\n",
       "Caraway Seed (Whole)     2263.0   3084.0   2368.0   2112.0     9827.0\n",
       "Cardamom Seed (Ground)   2489.0   2760.0   2561.0   2804.0    10614.0\n",
       "Cardamom Seed (Whole)    1277.0   2199.0   1618.0   2619.0     7713.0\n",
       "Catnip Leaf              3447.0   1466.0   1870.0   2950.0     9733.0\n",
       "Celery Seed (Whole)     24232.0  28437.0  23697.0  18124.0    94490.0\n",
       "Chamomile Flowers        1770.0   2591.0   2323.0   2209.0     8893.0\n",
       "East Special              400.0    751.0    985.0   1450.0     3586.0\n",
       "North Special             875.0   1452.0    254.0   2451.0     5032.0\n",
       "South Special            4215.0   1245.0   3562.0   2154.0    11176.0\n",
       "West Special              457.0    358.0    658.0    842.0     2315.0\n",
       "Total Product           78380.0  80523.0  71014.0  79323.0   309240.0"
      ]
     },
     "execution_count": 65,
     "metadata": {},
     "output_type": "execute_result"
    }
   ],
   "source": [
    "sum_result"
   ]
  },
  {
   "cell_type": "markdown",
   "metadata": {},
   "source": [
    "## บันทึกไฟล์ลงบน Excel"
   ]
  },
  {
   "cell_type": "code",
   "execution_count": null,
   "metadata": {},
   "outputs": [],
   "source": [
    "sum_result.to_excel('Test.xlsx')"
   ]
  }
 ],
 "metadata": {
  "kernelspec": {
   "display_name": "Python 3",
   "language": "python",
   "name": "python3"
  },
  "language_info": {
   "codemirror_mode": {
    "name": "ipython",
    "version": 3
   },
   "file_extension": ".py",
   "mimetype": "text/x-python",
   "name": "python",
   "nbconvert_exporter": "python",
   "pygments_lexer": "ipython3",
   "version": "3.7.7"
  }
 },
 "nbformat": 4,
 "nbformat_minor": 4
}
