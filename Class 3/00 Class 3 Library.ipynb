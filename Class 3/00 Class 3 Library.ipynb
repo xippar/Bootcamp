{
 "cells": [
  {
   "cell_type": "markdown",
   "metadata": {},
   "source": [
    "# Library ชุดคำสั่งสำเร็จรูป"
   ]
  },
  {
   "cell_type": "markdown",
   "metadata": {},
   "source": [
    "Library เป็นรูปแบบของการจัดการโค้ดที่พัฒนาไว้ให้โค้ดสามารถนำไปใช้ซ้ำโดยผู้อื่นได้ง่ายขึ้น ซึ่ง Library จะเก็บรวบรวมคำสั่งที่ใช้ทำงานในสโคปที่ระบุไว้เช่น การทำงานเพื่อย้ายไฟล์ โฟลเดอร์ ซึ่งการมีคนจำนวนมากใช้ Python ทำให้มี library ที่หลากหลายที่เราสามารถเลือกดาวน์โหลดเพื่อนำมาประยุกต์ใช้ได้ทันที"
   ]
  },
  {
   "cell_type": "markdown",
   "metadata": {},
   "source": [
    "library เป็นชุดไฟล์คำสั่ง Python (.py) หลายๆ ไฟล์ที่ทำงานร่วมกัน มีการอ้างอิงถึงคำสั่งข้ามไฟล์ และมีไฟล์ \\__init__.py คอยจัดการเรื่องการทำงานในฐาน library"
   ]
  },
  {
   "cell_type": "markdown",
   "metadata": {},
   "source": [
    "## ติดตั้ง Library"
   ]
  },
  {
   "cell_type": "markdown",
   "metadata": {},
   "source": [
    "เราสามารถติดตั้ง library ที่ถูกเผยแพร่เป็น opensource จาก The Python Package Index (PyPI) ด้วยการใช้ pip ที่เป็น package manager เช่น การติดตั้ง library ที่ชื่อว่า requests"
   ]
  },
  {
   "cell_type": "markdown",
   "metadata": {},
   "source": [
    "#### คำสั่งใช้ติดตั้ง library ชื่อ openpyxl"
   ]
  },
  {
   "cell_type": "code",
   "execution_count": 2,
   "metadata": {
    "scrolled": true
   },
   "outputs": [
    {
     "name": "stdout",
     "output_type": "stream",
     "text": [
      "Requirement already satisfied: openpyxl in c:\\users\\acer\\anaconda3\\lib\\site-packages (3.0.4)\n",
      "Requirement already satisfied: et-xmlfile in c:\\users\\acer\\anaconda3\\lib\\site-packages (from openpyxl) (1.0.1)\n",
      "Requirement already satisfied: jdcal in c:\\users\\acer\\anaconda3\\lib\\site-packages (from openpyxl) (1.4.1)\n"
     ]
    }
   ],
   "source": [
    "!pip install openpyxl"
   ]
  },
  {
   "cell_type": "markdown",
   "metadata": {},
   "source": [
    " "
   ]
  },
  {
   "cell_type": "markdown",
   "metadata": {},
   "source": [
    "## การนำ library มาใช้งาน"
   ]
  },
  {
   "cell_type": "markdown",
   "metadata": {},
   "source": [
    "เมื่อติดตั้งเสร็จเราจะได้ไฟล์เก็บคำสั่งไว้บนคอมพิวเตอร์ หากเราต้องการนำคำสั่งมาใช้เราจะต้องใช้คำสั่ง import เพื่อนำเข้าคำสั่งมาใช้งาน"
   ]
  },
  {
   "cell_type": "code",
   "execution_count": 3,
   "metadata": {},
   "outputs": [],
   "source": [
    "import pandas as pd"
   ]
  },
  {
   "cell_type": "code",
   "execution_count": 6,
   "metadata": {
    "scrolled": true
   },
   "outputs": [
    {
     "data": {
      "text/html": [
       "<div>\n",
       "<style scoped>\n",
       "    .dataframe tbody tr th:only-of-type {\n",
       "        vertical-align: middle;\n",
       "    }\n",
       "\n",
       "    .dataframe tbody tr th {\n",
       "        vertical-align: top;\n",
       "    }\n",
       "\n",
       "    .dataframe thead th {\n",
       "        text-align: right;\n",
       "    }\n",
       "</style>\n",
       "<table border=\"1\" class=\"dataframe\">\n",
       "  <thead>\n",
       "    <tr style=\"text-align: right;\">\n",
       "      <th></th>\n",
       "      <th>Product</th>\n",
       "      <th>Qtr1</th>\n",
       "      <th>Qtr2</th>\n",
       "      <th>Qtr3</th>\n",
       "      <th>Qtr4</th>\n",
       "    </tr>\n",
       "  </thead>\n",
       "  <tbody>\n",
       "    <tr>\n",
       "      <th>0</th>\n",
       "      <td>Basil Leaf (Whole)</td>\n",
       "      <td>9555</td>\n",
       "      <td>5975</td>\n",
       "      <td>5595</td>\n",
       "      <td>9659</td>\n",
       "    </tr>\n",
       "    <tr>\n",
       "      <th>1</th>\n",
       "      <td>Celery Seed (Whole)</td>\n",
       "      <td>7543</td>\n",
       "      <td>7346</td>\n",
       "      <td>3466</td>\n",
       "      <td>7474</td>\n",
       "    </tr>\n",
       "    <tr>\n",
       "      <th>2</th>\n",
       "      <td>Catnip Leaf</td>\n",
       "      <td>854</td>\n",
       "      <td>364</td>\n",
       "      <td>474</td>\n",
       "      <td>743</td>\n",
       "    </tr>\n",
       "    <tr>\n",
       "      <th>3</th>\n",
       "      <td>Cardamom Seed (Ground)</td>\n",
       "      <td>844</td>\n",
       "      <td>848</td>\n",
       "      <td>457</td>\n",
       "      <td>744</td>\n",
       "    </tr>\n",
       "    <tr>\n",
       "      <th>4</th>\n",
       "      <td>Anise Seeds</td>\n",
       "      <td>734</td>\n",
       "      <td>457</td>\n",
       "      <td>327</td>\n",
       "      <td>235</td>\n",
       "    </tr>\n",
       "    <tr>\n",
       "      <th>5</th>\n",
       "      <td>Asafoetida Powder</td>\n",
       "      <td>688</td>\n",
       "      <td>468</td>\n",
       "      <td>874</td>\n",
       "      <td>568</td>\n",
       "    </tr>\n",
       "    <tr>\n",
       "      <th>6</th>\n",
       "      <td>Caraway Seed (Whole)</td>\n",
       "      <td>676</td>\n",
       "      <td>856</td>\n",
       "      <td>855</td>\n",
       "      <td>866</td>\n",
       "    </tr>\n",
       "    <tr>\n",
       "      <th>7</th>\n",
       "      <td>Bay Leaf (Whole)</td>\n",
       "      <td>667</td>\n",
       "      <td>799</td>\n",
       "      <td>750</td>\n",
       "      <td>575</td>\n",
       "    </tr>\n",
       "    <tr>\n",
       "      <th>8</th>\n",
       "      <td>Chamomile Flowers</td>\n",
       "      <td>553</td>\n",
       "      <td>474</td>\n",
       "      <td>632</td>\n",
       "      <td>474</td>\n",
       "    </tr>\n",
       "    <tr>\n",
       "      <th>9</th>\n",
       "      <td>East Special</td>\n",
       "      <td>400</td>\n",
       "      <td>751</td>\n",
       "      <td>985</td>\n",
       "      <td>1450</td>\n",
       "    </tr>\n",
       "    <tr>\n",
       "      <th>10</th>\n",
       "      <td>Cardamom Seed (Whole)</td>\n",
       "      <td>379</td>\n",
       "      <td>375</td>\n",
       "      <td>377</td>\n",
       "      <td>745</td>\n",
       "    </tr>\n",
       "  </tbody>\n",
       "</table>\n",
       "</div>"
      ],
      "text/plain": [
       "                   Product  Qtr1  Qtr2  Qtr3  Qtr4\n",
       "0       Basil Leaf (Whole)  9555  5975  5595  9659\n",
       "1      Celery Seed (Whole)  7543  7346  3466  7474\n",
       "2              Catnip Leaf   854   364   474   743\n",
       "3   Cardamom Seed (Ground)   844   848   457   744\n",
       "4              Anise Seeds   734   457   327   235\n",
       "5        Asafoetida Powder   688   468   874   568\n",
       "6     Caraway Seed (Whole)   676   856   855   866\n",
       "7         Bay Leaf (Whole)   667   799   750   575\n",
       "8        Chamomile Flowers   553   474   632   474\n",
       "9             East Special   400   751   985  1450\n",
       "10   Cardamom Seed (Whole)   379   375   377   745"
      ]
     },
     "execution_count": 6,
     "metadata": {},
     "output_type": "execute_result"
    }
   ],
   "source": [
    "file_path = r'C:\\Users\\acer\\Desktop\\Bootcamp\\Class 3\\excel\\East.xlsx'\n",
    "table = pd.read_excel(file_path)\n",
    "table"
   ]
  },
  {
   "cell_type": "code",
   "execution_count": 7,
   "metadata": {},
   "outputs": [
    {
     "name": "stdout",
     "output_type": "stream",
     "text": [
      "Requirement already satisfied: openpyxl in c:\\users\\acer\\anaconda3\\lib\\site-packages (3.0.4)\n",
      "Requirement already satisfied: jdcal in c:\\users\\acer\\anaconda3\\lib\\site-packages (from openpyxl) (1.4.1)\n",
      "Requirement already satisfied: et-xmlfile in c:\\users\\acer\\anaconda3\\lib\\site-packages (from openpyxl) (1.0.1)\n"
     ]
    },
    {
     "name": "stderr",
     "output_type": "stream",
     "text": [
      "WARNING: You are using pip version 21.2.4; however, version 21.3 is available.\n",
      "You should consider upgrading via the 'c:\\users\\acer\\anaconda3\\python.exe -m pip install --upgrade pip' command.\n"
     ]
    }
   ],
   "source": [
    "!pip install openpyxl"
   ]
  },
  {
   "cell_type": "code",
   "execution_count": 10,
   "metadata": {},
   "outputs": [],
   "source": [
    "from openpyxl import load_workbook"
   ]
  },
  {
   "cell_type": "code",
   "execution_count": 12,
   "metadata": {},
   "outputs": [
    {
     "data": {
      "text/plain": [
       "<openpyxl.workbook.workbook.Workbook at 0x268c1bf59c8>"
      ]
     },
     "execution_count": 12,
     "metadata": {},
     "output_type": "execute_result"
    }
   ],
   "source": [
    "wb = load_workbook(file_path)\n",
    "wb"
   ]
  },
  {
   "cell_type": "code",
   "execution_count": null,
   "metadata": {},
   "outputs": [],
   "source": []
  },
  {
   "cell_type": "code",
   "execution_count": null,
   "metadata": {},
   "outputs": [],
   "source": []
  },
  {
   "cell_type": "code",
   "execution_count": null,
   "metadata": {},
   "outputs": [],
   "source": []
  },
  {
   "cell_type": "code",
   "execution_count": null,
   "metadata": {},
   "outputs": [],
   "source": []
  },
  {
   "cell_type": "code",
   "execution_count": null,
   "metadata": {},
   "outputs": [],
   "source": []
  },
  {
   "cell_type": "code",
   "execution_count": 3,
   "metadata": {},
   "outputs": [],
   "source": [
    "from openpyxl import load_workbook"
   ]
  },
  {
   "cell_type": "markdown",
   "metadata": {},
   "source": [
    "## การเรียกใช้คำสั่งใน library"
   ]
  },
  {
   "cell_type": "markdown",
   "metadata": {},
   "source": [
    "เมื่อนำเข้ามาแล้วเราสามารถเรียกใช้คำสั่งที่ต้องการได้จากการเรียกชื่อ library และตามด้วย . ตามด้วยชื่อของ function ที่อยู่ใน library นั้นๆ"
   ]
  },
  {
   "cell_type": "markdown",
   "metadata": {},
   "source": [
    "#### การใช้คำสั่ง load_workbook() ทำงานกับ Excel"
   ]
  },
  {
   "cell_type": "code",
   "execution_count": 4,
   "metadata": {},
   "outputs": [
    {
     "data": {
      "text/plain": [
       "<openpyxl.workbook.workbook.Workbook at 0x1aae35f9088>"
      ]
     },
     "execution_count": 4,
     "metadata": {},
     "output_type": "execute_result"
    }
   ],
   "source": [
    "load_workbook('excel_form.xlsx')"
   ]
  }
 ],
 "metadata": {
  "kernelspec": {
   "display_name": "Python 3",
   "language": "python",
   "name": "python3"
  },
  "language_info": {
   "codemirror_mode": {
    "name": "ipython",
    "version": 3
   },
   "file_extension": ".py",
   "mimetype": "text/x-python",
   "name": "python",
   "nbconvert_exporter": "python",
   "pygments_lexer": "ipython3",
   "version": "3.7.7"
  }
 },
 "nbformat": 4,
 "nbformat_minor": 4
}
