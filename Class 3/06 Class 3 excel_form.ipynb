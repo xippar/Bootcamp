{
 "cells": [
  {
   "cell_type": "markdown",
   "metadata": {},
   "source": [
    "## วันที่"
   ]
  },
  {
   "cell_type": "markdown",
   "metadata": {},
   "source": [
    "นำเข้าเครื่องมือ"
   ]
  },
  {
   "cell_type": "code",
   "execution_count": 1,
   "metadata": {
    "scrolled": true
   },
   "outputs": [],
   "source": [
    "import datetime\n",
    "from openpyxl import load_workbook"
   ]
  },
  {
   "cell_type": "code",
   "execution_count": 66,
   "metadata": {},
   "outputs": [],
   "source": [
    "file_path = r'C:\\Users\\acer\\Desktop\\Bootcamp\\Class 3\\Result.xlsx'\n",
    "form_data = r'C:\\Users\\acer\\Desktop\\Bootcamp\\Class 3\\excel_form.xlsx'"
   ]
  },
  {
   "cell_type": "code",
   "execution_count": 25,
   "metadata": {
    "scrolled": false
   },
   "outputs": [],
   "source": [
    "def today():\n",
    "    today = datetime.datetime.now()\n",
    "    return today.strftime('%d/%m/%Y')"
   ]
  },
  {
   "cell_type": "code",
   "execution_count": 33,
   "metadata": {},
   "outputs": [],
   "source": [
    "def get_data(report_data,index=0,column='Total Qtr'):\n",
    "    report = pd.read_excel(report_data,index_col=[index])\n",
    "    return report[column]"
   ]
  },
  {
   "cell_type": "code",
   "execution_count": 63,
   "metadata": {},
   "outputs": [],
   "source": [
    "def get_form(form_data,report_data,column='Report',file_name='excel_form2.xlsx'):\n",
    "    form = load_workbook(form_data)\n",
    "    form_report = form[column]\n",
    "    put_report(form_report,report_data)\n",
    "    form.save(file_name)"
   ]
  },
  {
   "cell_type": "code",
   "execution_count": 64,
   "metadata": {},
   "outputs": [],
   "source": [
    "def put_report(form_report,report_data):\n",
    "    form_report['F2'].value = today()\n",
    "    i = 0\n",
    "    for row in form_report.iter_rows(min_row=5,max_row=19,min_col=2,max_col=3):\n",
    "        row[0].value = report_data.index[i]\n",
    "        row[1].value = report_data.values[i]\n",
    "        i += 1"
   ]
  },
  {
   "cell_type": "code",
   "execution_count": 67,
   "metadata": {},
   "outputs": [],
   "source": [
    "def main():\n",
    "    report_data = get_data(file_path)\n",
    "    get_form(form_data,report_data)"
   ]
  },
  {
   "cell_type": "code",
   "execution_count": 68,
   "metadata": {},
   "outputs": [],
   "source": [
    "main()"
   ]
  },
  {
   "cell_type": "code",
   "execution_count": null,
   "metadata": {},
   "outputs": [],
   "source": []
  },
  {
   "cell_type": "code",
   "execution_count": null,
   "metadata": {},
   "outputs": [],
   "source": []
  },
  {
   "cell_type": "markdown",
   "metadata": {},
   "source": [
    "ดึงข้อมูลจาก form"
   ]
  },
  {
   "cell_type": "code",
   "execution_count": 19,
   "metadata": {},
   "outputs": [
    {
     "data": {
      "text/plain": [
       "<openpyxl.workbook.workbook.Workbook at 0x1eda6998848>"
      ]
     },
     "execution_count": 19,
     "metadata": {},
     "output_type": "execute_result"
    }
   ],
   "source": [
    "form_data = 'excel_form.xlsx'\n",
    "form = load_workbook(form_data)\n",
    "form"
   ]
  },
  {
   "cell_type": "markdown",
   "metadata": {},
   "source": [
    "## เปิด sheet"
   ]
  },
  {
   "cell_type": "code",
   "execution_count": 23,
   "metadata": {},
   "outputs": [
    {
     "data": {
      "text/plain": [
       "<Worksheet \"Report\">"
      ]
     },
     "execution_count": 23,
     "metadata": {},
     "output_type": "execute_result"
    }
   ],
   "source": [
    "form_report = form['Report']\n",
    "form_report"
   ]
  },
  {
   "cell_type": "markdown",
   "metadata": {},
   "source": [
    "## save form"
   ]
  },
  {
   "cell_type": "code",
   "execution_count": 25,
   "metadata": {},
   "outputs": [],
   "source": [
    "form.save('excel_form2.xlsx')"
   ]
  },
  {
   "cell_type": "markdown",
   "metadata": {},
   "source": [
    "## ทำงานกับ cell"
   ]
  },
  {
   "cell_type": "code",
   "execution_count": 28,
   "metadata": {},
   "outputs": [
    {
     "data": {
      "text/plain": [
       "<Cell 'Report'.F2>"
      ]
     },
     "execution_count": 28,
     "metadata": {},
     "output_type": "execute_result"
    }
   ],
   "source": [
    "form_report['f2']"
   ]
  },
  {
   "cell_type": "markdown",
   "metadata": {},
   "source": [
    "## แก้ค่าใน cell"
   ]
  },
  {
   "cell_type": "code",
   "execution_count": 27,
   "metadata": {},
   "outputs": [],
   "source": [
    "#ตำแหน่งกำหนดไว้ ใส่ข้อมูลวันที่ลงไป\n",
    "form_report['f2'].value = date"
   ]
  },
  {
   "cell_type": "markdown",
   "metadata": {},
   "source": [
    "## ทำงานกับหลาย cell"
   ]
  },
  {
   "cell_type": "code",
   "execution_count": 31,
   "metadata": {},
   "outputs": [
    {
     "name": "stdout",
     "output_type": "stream",
     "text": [
      "(<Cell 'Report'.B5>, <Cell 'Report'.C5>)\n",
      "(<Cell 'Report'.B6>, <Cell 'Report'.C6>)\n",
      "(<Cell 'Report'.B7>, <Cell 'Report'.C7>)\n",
      "(<Cell 'Report'.B8>, <Cell 'Report'.C8>)\n",
      "(<Cell 'Report'.B9>, <Cell 'Report'.C9>)\n",
      "(<Cell 'Report'.B10>, <Cell 'Report'.C10>)\n",
      "(<Cell 'Report'.B11>, <Cell 'Report'.C11>)\n",
      "(<Cell 'Report'.B12>, <Cell 'Report'.C12>)\n",
      "(<Cell 'Report'.B13>, <Cell 'Report'.C13>)\n",
      "(<Cell 'Report'.B14>, <Cell 'Report'.C14>)\n",
      "(<Cell 'Report'.B15>, <Cell 'Report'.C15>)\n",
      "(<Cell 'Report'.B16>, <Cell 'Report'.C16>)\n",
      "(<Cell 'Report'.B17>, <Cell 'Report'.C17>)\n",
      "(<Cell 'Report'.B18>, <Cell 'Report'.C18>)\n",
      "(<Cell 'Report'.B19>, <Cell 'Report'.C19>)\n"
     ]
    }
   ],
   "source": [
    "start_row = 5\n",
    "row_count = len(report_data) - 1\n",
    "stop_row = start_row + row_count\n",
    "for row in form_report.iter_rows(min_row=start_row, max_row=stop_row,min_col=2,max_col=3):\n",
    "    print(row)"
   ]
  },
  {
   "cell_type": "markdown",
   "metadata": {},
   "source": [
    "## ทำงานกับหลาย cell"
   ]
  },
  {
   "cell_type": "code",
   "execution_count": 32,
   "metadata": {},
   "outputs": [],
   "source": [
    "i = 0\n",
    "start_row = 5\n",
    "#ใส่ข้อมูลที่จะใส่เพื่อนับ และนำไปใส่\n",
    "row_count = len(report_data) - 1\n",
    "stop_row = start_row + row_count\n",
    "#ใส่ข้อมูล Form\n",
    "for row in form_report.iter_rows(min_row=start_row, max_row=stop_row,min_col=2,max_col=3):\n",
    "    row[0].value = report_data.index[i]\n",
    "    row[1].value = report_data[i]\n",
    "    i += 1"
   ]
  },
  {
   "cell_type": "markdown",
   "metadata": {},
   "source": [
    "## put_report()"
   ]
  },
  {
   "cell_type": "code",
   "execution_count": 33,
   "metadata": {},
   "outputs": [],
   "source": [
    "def put_report(report_data,form_report):\n",
    "    i = 0\n",
    "    start_row = 5\n",
    "    row_count = len(report_data) - 1\n",
    "    stop_row = start_row + row_count\n",
    "    for row in form_report.iter_rows(min_row=start_row, max_row=stop_row,min_col=2,max_col=3):\n",
    "        row[0].value = report_data.index[i]\n",
    "        row[1].value = report_data[i]\n",
    "        i += 1\n",
    "put_report(report_data,form_report)\n",
    "form.save('excel_form2.xlsx')"
   ]
  }
 ],
 "metadata": {
  "kernelspec": {
   "display_name": "Python 3",
   "language": "python",
   "name": "python3"
  },
  "language_info": {
   "codemirror_mode": {
    "name": "ipython",
    "version": 3
   },
   "file_extension": ".py",
   "mimetype": "text/x-python",
   "name": "python",
   "nbconvert_exporter": "python",
   "pygments_lexer": "ipython3",
   "version": "3.7.7"
  }
 },
 "nbformat": 4,
 "nbformat_minor": 4
}
