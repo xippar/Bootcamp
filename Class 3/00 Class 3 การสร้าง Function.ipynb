{
 "cells": [
  {
   "cell_type": "markdown",
   "metadata": {},
   "source": [
    "# การสร้างฟังก์ชัน"
   ]
  },
  {
   "cell_type": "markdown",
   "metadata": {},
   "source": [
    "เราสามารถบันทึกคำสั่งต่างๆ เอาไปใน Function เช่นเดียวกับที่เราบันทึก ข้อมูลเอาไว้ในตัวแปร ซึ่งการเขียน Function จะช่วยให้เราสามารถนำคำสั่งที่พัฒนาขึ้นไปใช้งานซ้ำ ส่งต่อ ดูแล และพัฒนาได้ง่ายยิ่งขึ้น"
   ]
  },
  {
   "cell_type": "markdown",
   "metadata": {},
   "source": [
    "ฟังก์ชันจะประกอบไปด้วย 3 ส่วน 1) def statement 2) ส่วนคำสั่ง 3) ส่วนการส่งต่อข้อมูล"
   ]
  },
  {
   "cell_type": "markdown",
   "metadata": {},
   "source": [
    "## def statement การสร้าง function"
   ]
  },
  {
   "cell_type": "markdown",
   "metadata": {},
   "source": [
    "เป็นส่วนที่ใช้เริ่มต้นการสร้าง function โดยการใช้คำสั่ง def ตามด้วยชื่อ function ที่ต้องการ และหาก function นี้ต้องการรับ argument ให้เราใส่ชื่อ parameter พร้อมถ้าต้องการตั้ง default argument ให้กับ parameter เราสามารถใส่ค่าไว้หลังสัญลักษณ์ = ได้เลย หากต้องการรับหลาย argument ให้ใส่ , คั่นแต่ละ parameter ในส่วน def statement จะต้องลงท้ายด้วย : เสมอ"
   ]
  },
  {
   "cell_type": "markdown",
   "metadata": {},
   "source": [
    "## ส่วนคำสั่งของ function"
   ]
  },
  {
   "cell_type": "markdown",
   "metadata": {},
   "source": [
    "Python เป็นภาษาที่ใช้การเว้นวรรคเป็นส่วนหนึ่งของการจัดการคำสั่ง ส่วนของคำสั่ง function จะต้องอยู่ใต้ def statement และมี เว้นวรรคเข้าไป 4 วรรค หรือ 1 tab และจะมีกี่คำสั่งก็ได้ ซึ่ง function จะสิ้นสุดเมื่อเจอคำสั่งบรรทัดที่ไม่มีการเว้นวรรคซึ่งเป็นหนึ่งในวิธีกสังเกตจุดสิ้นสุดของคำสั่งใน function"
   ]
  },
  {
   "cell_type": "markdown",
   "metadata": {},
   "source": [
    "## ส่วนการส่งต่อข้อมูล"
   ]
  },
  {
   "cell_type": "markdown",
   "metadata": {},
   "source": [
    "เมื่อฟังก์ชันทำงานเสร็จเราสามารถให้ Python ส่งต่อข้อมูลเพื่อนำไปใช้งานต่อได้ผ่าน คำสั่ง return ที่จะต้องใช้ภายใต้ def statement เท่านั้น ซึ่ง return จะเป็นส่วนหนึ่งของคำสั่งของ function และจะมีหรือไม่มีก็ได้"
   ]
  },
  {
   "cell_type": "markdown",
   "metadata": {},
   "source": [
    "#### ฟังก์ชันที่รับ string ชื่อไปรวมเป็นคำทักทาย"
   ]
  },
  {
   "cell_type": "code",
   "execution_count": 1,
   "metadata": {},
   "outputs": [],
   "source": [
    "import file_management"
   ]
  },
  {
   "cell_type": "code",
   "execution_count": 17,
   "metadata": {},
   "outputs": [
    {
     "data": {
      "text/plain": [
       "['1.png',\n",
       " '2.png',\n",
       " '3.png',\n",
       " '4.png',\n",
       " '5.png',\n",
       " '6.png',\n",
       " '7.png',\n",
       " '8.png',\n",
       " 'Bootcamp live 19 (1).zip']"
      ]
     },
     "execution_count": 17,
     "metadata": {},
     "output_type": "execute_result"
    }
   ],
   "source": [
    "file_management.get_files(r'C:\\Users\\acer\\Desktop\\bootcamp ads')"
   ]
  },
  {
   "cell_type": "code",
   "execution_count": 14,
   "metadata": {},
   "outputs": [],
   "source": [
    "def greeting(age,name='Xippar'):\n",
    "    return f'Hi, {name}'"
   ]
  },
  {
   "cell_type": "code",
   "execution_count": 15,
   "metadata": {},
   "outputs": [
    {
     "data": {
      "text/plain": [
       "'Hi, Xippar'"
      ]
     },
     "execution_count": 15,
     "metadata": {},
     "output_type": "execute_result"
    }
   ],
   "source": [
    "greeting(name='Xippar',age=25)"
   ]
  },
  {
   "cell_type": "code",
   "execution_count": null,
   "metadata": {},
   "outputs": [],
   "source": []
  },
  {
   "cell_type": "code",
   "execution_count": 5,
   "metadata": {},
   "outputs": [
    {
     "name": "stdout",
     "output_type": "stream",
     "text": [
      "Hi, Xippar\n",
      "Hi, Jim\n",
      "Hi, John\n"
     ]
    }
   ],
   "source": [
    "print(greeting(name='Xippar'))\n",
    "print(greeting(name='Jim'))\n",
    "print(greeting(name='John'))"
   ]
  },
  {
   "cell_type": "code",
   "execution_count": 7,
   "metadata": {},
   "outputs": [
    {
     "name": "stdout",
     "output_type": "stream",
     "text": [
      "Hi, John\n",
      "Hi, Jim\n",
      "Hi, Xippar\n"
     ]
    }
   ],
   "source": [
    "print(f'Hi, John')\n",
    "print(f'Hi, Jim')\n",
    "print(f'Hi, Xippar')"
   ]
  },
  {
   "cell_type": "code",
   "execution_count": null,
   "metadata": {},
   "outputs": [],
   "source": []
  }
 ],
 "metadata": {
  "kernelspec": {
   "display_name": "Python 3",
   "language": "python",
   "name": "python3"
  },
  "language_info": {
   "codemirror_mode": {
    "name": "ipython",
    "version": 3
   },
   "file_extension": ".py",
   "mimetype": "text/x-python",
   "name": "python",
   "nbconvert_exporter": "python",
   "pygments_lexer": "ipython3",
   "version": "3.7.7"
  }
 },
 "nbformat": 4,
 "nbformat_minor": 4
}
