{
 "cells": [
  {
   "cell_type": "markdown",
   "metadata": {},
   "source": [
    "# Openpyxl"
   ]
  },
  {
   "cell_type": "markdown",
   "metadata": {},
   "source": [
    "เป็นอีกเครื่องมือใช้จัดการไฟล์ Excel ที่ไม่แค่ข้อมูล แต่รวม Format ต่างๆ ไว้ด้วย การทำงานจะเน้นการมองข้อมูลเป็น ไฟล์ ชีท cell จัดการข้อมูล"
   ]
  },
  {
   "cell_type": "markdown",
   "metadata": {},
   "source": [
    "## นำเข้าเครื่องมือ"
   ]
  },
  {
   "cell_type": "code",
   "execution_count": 1,
   "metadata": {
    "scrolled": true
   },
   "outputs": [],
   "source": [
    "from openpyxl import load_workbook"
   ]
  },
  {
   "cell_type": "markdown",
   "metadata": {},
   "source": [
    "## เปิดไฟล์"
   ]
  },
  {
   "cell_type": "code",
   "execution_count": 5,
   "metadata": {},
   "outputs": [
    {
     "data": {
      "text/plain": [
       "<openpyxl.workbook.workbook.Workbook at 0x2aee7083c48>"
      ]
     },
     "execution_count": 5,
     "metadata": {},
     "output_type": "execute_result"
    }
   ],
   "source": [
    "excel_file = load_workbook('excel_form.xlsx')\n",
    "excel_file"
   ]
  },
  {
   "cell_type": "markdown",
   "metadata": {},
   "source": [
    "## เปิดชีท"
   ]
  },
  {
   "cell_type": "code",
   "execution_count": 6,
   "metadata": {},
   "outputs": [
    {
     "data": {
      "text/plain": [
       "<Worksheet \"Report\">"
      ]
     },
     "execution_count": 6,
     "metadata": {},
     "output_type": "execute_result"
    }
   ],
   "source": [
    "report_sheet = excel_file['Report']\n",
    "report_sheet"
   ]
  },
  {
   "cell_type": "markdown",
   "metadata": {},
   "source": [
    "## เลือก Cell"
   ]
  },
  {
   "cell_type": "code",
   "execution_count": 7,
   "metadata": {},
   "outputs": [
    {
     "data": {
      "text/plain": [
       "<Cell 'Report'.A1>"
      ]
     },
     "execution_count": 7,
     "metadata": {},
     "output_type": "execute_result"
    }
   ],
   "source": [
    "report_sheet['a1']"
   ]
  },
  {
   "cell_type": "markdown",
   "metadata": {},
   "source": [
    "## ทำงานหลาย column, row"
   ]
  },
  {
   "cell_type": "markdown",
   "metadata": {},
   "source": [
    "row"
   ]
  },
  {
   "cell_type": "code",
   "execution_count": 13,
   "metadata": {},
   "outputs": [
    {
     "name": "stdout",
     "output_type": "stream",
     "text": [
      "(<Cell 'Report'.A5>, <Cell 'Report'.B5>)\n",
      "(<Cell 'Report'.A6>, <Cell 'Report'.B6>)\n",
      "(<Cell 'Report'.A7>, <Cell 'Report'.B7>)\n",
      "(<Cell 'Report'.A8>, <Cell 'Report'.B8>)\n",
      "(<Cell 'Report'.A9>, <Cell 'Report'.B9>)\n",
      "(<Cell 'Report'.A10>, <Cell 'Report'.B10>)\n"
     ]
    }
   ],
   "source": [
    "start_row = 5\n",
    "stop_now = 10\n",
    "start_col = 1\n",
    "stop_col = 2\n",
    "for row in report_sheet.iter_rows(min_row=start_row, max_row=stop_now,min_col=start_col,max_col=stop_col):\n",
    "    print(row)"
   ]
  },
  {
   "cell_type": "markdown",
   "metadata": {},
   "source": [
    "column"
   ]
  },
  {
   "cell_type": "code",
   "execution_count": 14,
   "metadata": {},
   "outputs": [
    {
     "name": "stdout",
     "output_type": "stream",
     "text": [
      "(<Cell 'Report'.A5>, <Cell 'Report'.A6>, <Cell 'Report'.A7>, <Cell 'Report'.A8>, <Cell 'Report'.A9>, <Cell 'Report'.A10>)\n",
      "(<Cell 'Report'.B5>, <Cell 'Report'.B6>, <Cell 'Report'.B7>, <Cell 'Report'.B8>, <Cell 'Report'.B9>, <Cell 'Report'.B10>)\n"
     ]
    }
   ],
   "source": [
    "start_col = 1\n",
    "stop_col = 2\n",
    "start_row = 5\n",
    "stop_now = 10\n",
    "for row in report_sheet.iter_cols(min_col=start_col, max_col=stop_col,min_row=start_row,max_row=stop_now):\n",
    "    print(row)"
   ]
  },
  {
   "cell_type": "markdown",
   "metadata": {},
   "source": [
    "## แก้ไข cell"
   ]
  },
  {
   "cell_type": "code",
   "execution_count": 16,
   "metadata": {},
   "outputs": [],
   "source": [
    "report_sheet['a1'].value = 99"
   ]
  },
  {
   "cell_type": "markdown",
   "metadata": {},
   "source": [
    "## แก้ไขหลาย cell"
   ]
  },
  {
   "cell_type": "markdown",
   "metadata": {},
   "source": [
    "การ unpacking นำหลายข้อมูลใส่หลายตัวแปร"
   ]
  },
  {
   "cell_type": "code",
   "execution_count": 21,
   "metadata": {},
   "outputs": [],
   "source": [
    "start_col = 1\n",
    "stop_col = 2\n",
    "start_row = 5\n",
    "stop_now = 10\n",
    "for row in report_sheet.iter_cols(min_col=start_col, max_col=stop_col,min_row=start_row,max_row=stop_now):\n",
    "    a,b,c,d,e,f = row\n",
    "    a.value = 99\n",
    "    b.value = 99\n",
    "    c.value = 99\n",
    "    d.value = 99\n",
    "    e.value = 99\n",
    "    f.value = 99"
   ]
  },
  {
   "cell_type": "markdown",
   "metadata": {},
   "source": [
    "## บันทึกไฟล์"
   ]
  },
  {
   "cell_type": "code",
   "execution_count": 22,
   "metadata": {},
   "outputs": [],
   "source": [
    "excel_file.save('Test.xlsx')"
   ]
  }
 ],
 "metadata": {
  "kernelspec": {
   "display_name": "Python 3",
   "language": "python",
   "name": "python3"
  },
  "language_info": {
   "codemirror_mode": {
    "name": "ipython",
    "version": 3
   },
   "file_extension": ".py",
   "mimetype": "text/x-python",
   "name": "python",
   "nbconvert_exporter": "python",
   "pygments_lexer": "ipython3",
   "version": "3.7.7"
  }
 },
 "nbformat": 4,
 "nbformat_minor": 4
}
